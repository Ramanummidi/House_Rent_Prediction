{
 "cells": [
  {
   "cell_type": "markdown",
   "id": "cc5f3ea1-77a6-477d-a05f-1d0c75c05dcd",
   "metadata": {},
   "source": [
    "<font size=\"5\">Modelling of data on different models choosing the best"
   ]
  },
  {
   "cell_type": "code",
   "execution_count": 1,
   "id": "e636730a-8761-45f3-a5f8-9f9c4c03369d",
   "metadata": {},
   "outputs": [
    {
     "data": {
      "text/plain": [
       "'D:\\\\IDMA\\\\Project2'"
      ]
     },
     "execution_count": 1,
     "metadata": {},
     "output_type": "execute_result"
    }
   ],
   "source": [
    "import pandas as pd\n",
    "import os\n",
    "os.getcwd()"
   ]
  },
  {
   "cell_type": "code",
   "execution_count": 43,
   "id": "48ba44bf-6814-4979-9226-98e83c59d823",
   "metadata": {},
   "outputs": [],
   "source": [
    "df = pd.read_csv('cleaned_sorted.csv')"
   ]
  },
  {
   "cell_type": "code",
   "execution_count": 44,
   "id": "8a686d83-8a40-4388-ae16-9612716ac20f",
   "metadata": {},
   "outputs": [
    {
     "data": {
      "text/html": [
       "<div>\n",
       "<style scoped>\n",
       "    .dataframe tbody tr th:only-of-type {\n",
       "        vertical-align: middle;\n",
       "    }\n",
       "\n",
       "    .dataframe tbody tr th {\n",
       "        vertical-align: top;\n",
       "    }\n",
       "\n",
       "    .dataframe thead th {\n",
       "        text-align: right;\n",
       "    }\n",
       "</style>\n",
       "<table border=\"1\" class=\"dataframe\">\n",
       "  <thead>\n",
       "    <tr style=\"text-align: right;\">\n",
       "      <th></th>\n",
       "      <th>Unnamed: 0</th>\n",
       "      <th>listing_id</th>\n",
       "      <th>available</th>\n",
       "      <th>price</th>\n",
       "      <th>adjusted_price</th>\n",
       "      <th>minimum_nights</th>\n",
       "      <th>maximum_nights</th>\n",
       "      <th>name</th>\n",
       "      <th>latitude</th>\n",
       "      <th>longitude</th>\n",
       "      <th>...</th>\n",
       "      <th>total_reviews</th>\n",
       "      <th>days_since_review</th>\n",
       "      <th>no_of_amenities</th>\n",
       "      <th>Elements</th>\n",
       "      <th>no_of_bath</th>\n",
       "      <th>bath_type</th>\n",
       "      <th>word_in_row</th>\n",
       "      <th>bath_type1</th>\n",
       "      <th>host_for</th>\n",
       "      <th>host_country</th>\n",
       "    </tr>\n",
       "  </thead>\n",
       "  <tbody>\n",
       "    <tr>\n",
       "      <th>0</th>\n",
       "      <td>0</td>\n",
       "      <td>50904</td>\n",
       "      <td>0.0</td>\n",
       "      <td>166.666667</td>\n",
       "      <td>158.666667</td>\n",
       "      <td>1.000000</td>\n",
       "      <td>60.0</td>\n",
       "      <td>aplace/antwerp: cosy suite - fashion district</td>\n",
       "      <td>51.218575</td>\n",
       "      <td>4.398631</td>\n",
       "      <td>...</td>\n",
       "      <td>2.0</td>\n",
       "      <td>1377.5</td>\n",
       "      <td>591</td>\n",
       "      <td>591</td>\n",
       "      <td>1.0</td>\n",
       "      <td>Private</td>\n",
       "      <td>False</td>\n",
       "      <td>False</td>\n",
       "      <td>4247</td>\n",
       "      <td>Belgium</td>\n",
       "    </tr>\n",
       "    <tr>\n",
       "      <th>1</th>\n",
       "      <td>1</td>\n",
       "      <td>891884</td>\n",
       "      <td>0.0</td>\n",
       "      <td>175.000000</td>\n",
       "      <td>175.000000</td>\n",
       "      <td>1.666667</td>\n",
       "      <td>1125.0</td>\n",
       "      <td>aplace/antwerp: amazing suite &amp; square view</td>\n",
       "      <td>51.218575</td>\n",
       "      <td>4.398631</td>\n",
       "      <td>...</td>\n",
       "      <td>2.0</td>\n",
       "      <td>638.0</td>\n",
       "      <td>550</td>\n",
       "      <td>550</td>\n",
       "      <td>1.0</td>\n",
       "      <td>Private</td>\n",
       "      <td>False</td>\n",
       "      <td>False</td>\n",
       "      <td>4247</td>\n",
       "      <td>Belgium</td>\n",
       "    </tr>\n",
       "  </tbody>\n",
       "</table>\n",
       "<p>2 rows × 31 columns</p>\n",
       "</div>"
      ],
      "text/plain": [
       "   Unnamed: 0  listing_id  available       price  adjusted_price  \\\n",
       "0           0       50904        0.0  166.666667      158.666667   \n",
       "1           1      891884        0.0  175.000000      175.000000   \n",
       "\n",
       "   minimum_nights  maximum_nights  \\\n",
       "0        1.000000            60.0   \n",
       "1        1.666667          1125.0   \n",
       "\n",
       "                                            name   latitude  longitude  ...  \\\n",
       "0  aplace/antwerp: cosy suite - fashion district  51.218575   4.398631  ...   \n",
       "1    aplace/antwerp: amazing suite & square view  51.218575   4.398631  ...   \n",
       "\n",
       "  total_reviews days_since_review  no_of_amenities Elements  no_of_bath  \\\n",
       "0           2.0            1377.5              591      591         1.0   \n",
       "1           2.0             638.0              550      550         1.0   \n",
       "\n",
       "   bath_type word_in_row  bath_type1 host_for host_country  \n",
       "0    Private       False       False     4247      Belgium  \n",
       "1    Private       False       False     4247      Belgium  \n",
       "\n",
       "[2 rows x 31 columns]"
      ]
     },
     "execution_count": 44,
     "metadata": {},
     "output_type": "execute_result"
    }
   ],
   "source": [
    "df.head(2)"
   ]
  },
  {
   "cell_type": "code",
   "execution_count": 45,
   "id": "9dbf87db-66d1-441f-bdde-9086d4c4d687",
   "metadata": {},
   "outputs": [
    {
     "data": {
      "text/plain": [
       "(1740, 31)"
      ]
     },
     "execution_count": 45,
     "metadata": {},
     "output_type": "execute_result"
    }
   ],
   "source": [
    "df.shape"
   ]
  },
  {
   "cell_type": "code",
   "execution_count": 46,
   "id": "0a2a2f60-bae2-4ac4-a069-3c4b0996c730",
   "metadata": {},
   "outputs": [
    {
     "data": {
      "text/plain": [
       "Index(['Unnamed: 0', 'listing_id', 'available', 'price', 'adjusted_price',\n",
       "       'minimum_nights', 'maximum_nights', 'name', 'latitude', 'longitude',\n",
       "       'property_type', 'room_type', 'accomodates', 'bathrooms_text',\n",
       "       'bedrooms', 'beds', 'amenities', 'host_id', 'host_name', 'host_since',\n",
       "       'host_location', 'total_reviews', 'days_since_review',\n",
       "       'no_of_amenities', 'Elements', 'no_of_bath', 'bath_type', 'word_in_row',\n",
       "       'bath_type1', 'host_for', 'host_country'],\n",
       "      dtype='object')"
      ]
     },
     "execution_count": 46,
     "metadata": {},
     "output_type": "execute_result"
    }
   ],
   "source": [
    "df.columns"
   ]
  },
  {
   "cell_type": "markdown",
   "id": "f48aa8ab-5c7a-4abd-9047-df997c63c29c",
   "metadata": {},
   "source": [
    "<font size=\"5\">Removing of unnecessary columns "
   ]
  },
  {
   "cell_type": "code",
   "execution_count": 47,
   "id": "a5e3744d-9195-4706-b447-4bef6041c550",
   "metadata": {},
   "outputs": [],
   "source": [
    "df.drop(['Unnamed: 0','listing_id','name','latitude','longitude','bathrooms_text','host_id','host_name','host_since','Elements','word_in_row','bath_type1'],axis=1,inplace=True)"
   ]
  },
  {
   "cell_type": "code",
   "execution_count": 48,
   "id": "426f73b8-6137-42f1-99de-91a1f6a44b4b",
   "metadata": {},
   "outputs": [
    {
     "data": {
      "text/plain": [
       "(1740, 19)"
      ]
     },
     "execution_count": 48,
     "metadata": {},
     "output_type": "execute_result"
    }
   ],
   "source": [
    "df.shape"
   ]
  },
  {
   "cell_type": "code",
   "execution_count": 49,
   "id": "cce28f3b-f8a4-4041-965c-45e1bd21bc63",
   "metadata": {},
   "outputs": [
    {
     "data": {
      "text/plain": [
       "Index(['available', 'price', 'adjusted_price', 'minimum_nights',\n",
       "       'maximum_nights', 'property_type', 'room_type', 'accomodates',\n",
       "       'bedrooms', 'beds', 'amenities', 'host_location', 'total_reviews',\n",
       "       'days_since_review', 'no_of_amenities', 'no_of_bath', 'bath_type',\n",
       "       'host_for', 'host_country'],\n",
       "      dtype='object')"
      ]
     },
     "execution_count": 49,
     "metadata": {},
     "output_type": "execute_result"
    }
   ],
   "source": [
    "df.columns"
   ]
  },
  {
   "cell_type": "code",
   "execution_count": 50,
   "id": "0e98d275-d29a-4b03-b08f-ccc3013c7b86",
   "metadata": {},
   "outputs": [],
   "source": [
    "df.drop(['adjusted_price','host_location'],axis=1,inplace=True)"
   ]
  },
  {
   "cell_type": "code",
   "execution_count": 51,
   "id": "124d648d-bd93-4409-8813-b0a22292bb53",
   "metadata": {},
   "outputs": [],
   "source": [
    "df.drop(['amenities'],axis=1,inplace=True)"
   ]
  },
  {
   "cell_type": "code",
   "execution_count": 53,
   "id": "9a2686a1-9ae8-47e9-8edf-ba4f5befe7c8",
   "metadata": {},
   "outputs": [],
   "source": [
    "df['available'] = pd.Categorical(df.available)\n",
    "df['room_type'] = pd.Categorical(df.room_type)\n",
    "df['host_country'] = pd.Categorical(df.host_country)\n",
    "df['property_type'] = pd.Categorical(df.property_type)\n",
    "df['bath_type'] = pd.Categorical(df.bath_type)"
   ]
  },
  {
   "cell_type": "code",
   "execution_count": 54,
   "id": "5859096d-c01a-4322-8917-8868d79f277f",
   "metadata": {},
   "outputs": [
    {
     "name": "stdout",
     "output_type": "stream",
     "text": [
      "<class 'pandas.core.frame.DataFrame'>\n",
      "RangeIndex: 1740 entries, 0 to 1739\n",
      "Data columns (total 16 columns):\n",
      " #   Column             Non-Null Count  Dtype   \n",
      "---  ------             --------------  -----   \n",
      " 0   available          1740 non-null   category\n",
      " 1   price              1740 non-null   float64 \n",
      " 2   minimum_nights     1740 non-null   float64 \n",
      " 3   maximum_nights     1740 non-null   float64 \n",
      " 4   property_type      1740 non-null   category\n",
      " 5   room_type          1740 non-null   category\n",
      " 6   accomodates        1740 non-null   int64   \n",
      " 7   bedrooms           1740 non-null   float64 \n",
      " 8   beds               1740 non-null   float64 \n",
      " 9   total_reviews      1740 non-null   float64 \n",
      " 10  days_since_review  1740 non-null   float64 \n",
      " 11  no_of_amenities    1740 non-null   int64   \n",
      " 12  no_of_bath         1740 non-null   float64 \n",
      " 13  bath_type          1740 non-null   category\n",
      " 14  host_for           1740 non-null   int64   \n",
      " 15  host_country       1740 non-null   category\n",
      "dtypes: category(5), float64(8), int64(3)\n",
      "memory usage: 161.3 KB\n"
     ]
    }
   ],
   "source": [
    "df.info()"
   ]
  },
  {
   "cell_type": "markdown",
   "id": "e71301c9-f381-4d23-a56d-bd1a15551676",
   "metadata": {},
   "source": [
    "<font size=\"5\">Creating dummy of objective variables based on country and room type using \"dummies\""
   ]
  },
  {
   "cell_type": "code",
   "execution_count": 55,
   "id": "ba9535eb-0977-45c0-aae7-f16cfa77d55c",
   "metadata": {},
   "outputs": [],
   "source": [
    "df = pd.get_dummies(df)"
   ]
  },
  {
   "cell_type": "code",
   "execution_count": 56,
   "id": "1bf932a2-7c41-4b64-a6a8-c4d822b78747",
   "metadata": {},
   "outputs": [
    {
     "data": {
      "text/plain": [
       "(1740, 92)"
      ]
     },
     "execution_count": 56,
     "metadata": {},
     "output_type": "execute_result"
    }
   ],
   "source": [
    "df.shape"
   ]
  },
  {
   "cell_type": "code",
   "execution_count": 106,
   "id": "752321cf-f70c-4396-94cd-508ab1e5c877",
   "metadata": {},
   "outputs": [],
   "source": [
    "from sklearn.model_selection import train_test_split\n",
    "from math import sqrt"
   ]
  },
  {
   "cell_type": "code",
   "execution_count": 107,
   "id": "a1c6c280-cb07-47d3-88d5-b354a509bc77",
   "metadata": {},
   "outputs": [],
   "source": [
    "x = df.drop(['price'],axis=1)\n",
    "y = df['price']"
   ]
  },
  {
   "cell_type": "code",
   "execution_count": 108,
   "id": "d057a25d-98fa-4bbf-b315-7961cee572eb",
   "metadata": {},
   "outputs": [],
   "source": [
    "X_Train, X_Test, Y_Train, Y_Test = train_test_split(x,y,test_size=0.25,random_state=42)"
   ]
  },
  {
   "cell_type": "markdown",
   "id": "3854f00e-eae2-419f-83b1-5c4e59babb5b",
   "metadata": {},
   "source": [
    "<font size=\"5\">Linear Regression Modelling"
   ]
  },
  {
   "cell_type": "code",
   "execution_count": 109,
   "id": "88eb879f-c664-4f99-b253-2fd4c25819ce",
   "metadata": {},
   "outputs": [],
   "source": [
    "from sklearn.linear_model import LinearRegression\n",
    "from sklearn.metrics import mean_squared_error"
   ]
  },
  {
   "cell_type": "code",
   "execution_count": 110,
   "id": "c6b487b9-64fb-40ae-8bfd-5e40c05b6174",
   "metadata": {},
   "outputs": [],
   "source": [
    "model = LinearRegression()\n",
    "model = model.fit(X_Train,Y_Train)"
   ]
  },
  {
   "cell_type": "code",
   "execution_count": 112,
   "id": "44b102c4-8139-4b03-a6e4-1d9775960166",
   "metadata": {},
   "outputs": [
    {
     "data": {
      "text/plain": [
       "LinearRegression()"
      ]
     },
     "execution_count": 112,
     "metadata": {},
     "output_type": "execute_result"
    }
   ],
   "source": [
    "model"
   ]
  },
  {
   "cell_type": "code",
   "execution_count": 113,
   "id": "265b3f77-2a95-4a39-977d-b62fa50c803a",
   "metadata": {},
   "outputs": [
    {
     "data": {
      "text/plain": [
       "0.3057785409575593"
      ]
     },
     "execution_count": 113,
     "metadata": {},
     "output_type": "execute_result"
    }
   ],
   "source": [
    "model.score(X_Train,Y_Train)"
   ]
  },
  {
   "cell_type": "code",
   "execution_count": 115,
   "id": "1a0fd10f-46a3-4b48-b12c-00b05a3f2401",
   "metadata": {},
   "outputs": [],
   "source": [
    "predicted = model.predict(X_Test)"
   ]
  },
  {
   "cell_type": "code",
   "execution_count": 116,
   "id": "013093cb-6e4b-41e6-8bf7-c012790a238d",
   "metadata": {},
   "outputs": [
    {
     "data": {
      "text/plain": [
       "105.65953686081473"
      ]
     },
     "execution_count": 116,
     "metadata": {},
     "output_type": "execute_result"
    }
   ],
   "source": [
    "RMSE = sqrt(mean_squared_error(Y_Test,predicted))\n",
    "RMSE"
   ]
  },
  {
   "cell_type": "markdown",
   "id": "93cce298-e6a5-4532-9af7-58de2e2757e1",
   "metadata": {},
   "source": [
    "<font size=\"5\">Decision Tree Regression"
   ]
  },
  {
   "cell_type": "code",
   "execution_count": 117,
   "id": "826ad9bb-08a2-4fc3-8cf4-36ea010e35e5",
   "metadata": {},
   "outputs": [],
   "source": [
    "from sklearn.tree import DecisionTreeRegressor\n",
    "regressor = DecisionTreeRegressor(random_state=0)\n",
    "model2 = regressor.fit(X_Train,Y_Train)"
   ]
  },
  {
   "cell_type": "code",
   "execution_count": 118,
   "id": "18ea7971-071f-45b5-82f2-e10c3b4a6df8",
   "metadata": {},
   "outputs": [
    {
     "data": {
      "text/plain": [
       "DecisionTreeRegressor(random_state=0)"
      ]
     },
     "execution_count": 118,
     "metadata": {},
     "output_type": "execute_result"
    }
   ],
   "source": [
    "model2"
   ]
  },
  {
   "cell_type": "code",
   "execution_count": 119,
   "id": "1ab00e7e-49f9-41f0-84ff-5ebe0cce14ff",
   "metadata": {},
   "outputs": [],
   "source": [
    "predicted2 = model2.predict(X_Test)"
   ]
  },
  {
   "cell_type": "code",
   "execution_count": 120,
   "id": "0e92652b-fc8c-47ac-892d-6de736085334",
   "metadata": {},
   "outputs": [
    {
     "data": {
      "text/plain": [
       "109.4101461320126"
      ]
     },
     "execution_count": 120,
     "metadata": {},
     "output_type": "execute_result"
    }
   ],
   "source": [
    "RMSE2 = sqrt(mean_squared_error(Y_Test,predicted2))\n",
    "RMSE2"
   ]
  },
  {
   "cell_type": "markdown",
   "id": "db619c59-ed04-4faf-9b1e-aa00cf17a2d8",
   "metadata": {},
   "source": [
    "<font size=\"5\">Random Forest Modelling"
   ]
  },
  {
   "cell_type": "code",
   "execution_count": 121,
   "id": "551c5461-e8ba-40e1-96fd-70332aec73c3",
   "metadata": {},
   "outputs": [],
   "source": [
    "from sklearn.ensemble import RandomForestRegressor\n",
    "regressor3 = RandomForestRegressor(max_depth=2, random_state=0)\n",
    "model3 = regressor3.fit(X_Train,Y_Train)"
   ]
  },
  {
   "cell_type": "code",
   "execution_count": 122,
   "id": "43a78c62-b03f-4b22-833f-f2677edbde9b",
   "metadata": {},
   "outputs": [
    {
     "data": {
      "text/plain": [
       "RandomForestRegressor(max_depth=2, random_state=0)"
      ]
     },
     "execution_count": 122,
     "metadata": {},
     "output_type": "execute_result"
    }
   ],
   "source": [
    "model3"
   ]
  },
  {
   "cell_type": "code",
   "execution_count": 123,
   "id": "5d7afdff-4791-49cd-a29b-445b627e8a62",
   "metadata": {},
   "outputs": [],
   "source": [
    "predicted3 = model3.predict(X_Test)"
   ]
  },
  {
   "cell_type": "code",
   "execution_count": 124,
   "id": "b6cb4ef1-c28c-4c74-9dec-24e2a2c635bc",
   "metadata": {},
   "outputs": [
    {
     "data": {
      "text/plain": [
       "109.2510318094533"
      ]
     },
     "execution_count": 124,
     "metadata": {},
     "output_type": "execute_result"
    }
   ],
   "source": [
    "RMSE3 = sqrt(mean_squared_error(Y_Test,predicted3))\n",
    "RMSE3"
   ]
  },
  {
   "cell_type": "markdown",
   "id": "4e84daec-e0a8-42e9-963d-7b5230fab440",
   "metadata": {},
   "source": [
    "<font size=\"5\">Gradient Boosting Modelling"
   ]
  },
  {
   "cell_type": "code",
   "execution_count": 126,
   "id": "d8b95380-d301-443a-b8b0-1cf0b6c2b97d",
   "metadata": {},
   "outputs": [],
   "source": [
    "from sklearn.ensemble import GradientBoostingRegressor\n",
    "regressor4 = GradientBoostingRegressor(random_state=0)\n",
    "model4 = regressor4.fit(X_Train,Y_Train)"
   ]
  },
  {
   "cell_type": "code",
   "execution_count": 127,
   "id": "4c2ce1b1-c9f5-48b0-b88d-5194b3cfad5b",
   "metadata": {},
   "outputs": [
    {
     "data": {
      "text/plain": [
       "GradientBoostingRegressor(random_state=0)"
      ]
     },
     "execution_count": 127,
     "metadata": {},
     "output_type": "execute_result"
    }
   ],
   "source": [
    "model4"
   ]
  },
  {
   "cell_type": "code",
   "execution_count": 128,
   "id": "582aa01f-a67b-43af-9999-a77c035822eb",
   "metadata": {},
   "outputs": [],
   "source": [
    "predicted4 = model4.predict(X_Test)"
   ]
  },
  {
   "cell_type": "code",
   "execution_count": 129,
   "id": "20839f99-cd32-44ae-b000-c96a84ffcf6d",
   "metadata": {},
   "outputs": [
    {
     "data": {
      "text/plain": [
       "94.41228984161606"
      ]
     },
     "execution_count": 129,
     "metadata": {},
     "output_type": "execute_result"
    }
   ],
   "source": [
    "RMSE4 = sqrt(mean_squared_error(Y_Test,predicted4))\n",
    "RMSE4"
   ]
  },
  {
   "cell_type": "code",
   "execution_count": 130,
   "id": "c5ce581a-f150-4097-82c3-ea6de789036f",
   "metadata": {},
   "outputs": [],
   "source": [
    "Data = [['LinearRegressor',RMSE],['DecissionTree',RMSE2],['RandomForest',RMSE3],['GradientBoost',RMSE4]]\n",
    "Results = pd.DataFrame(Data, columns = ['Model', 'RMSE'])"
   ]
  },
  {
   "cell_type": "code",
   "execution_count": 131,
   "id": "4cbc2301-d644-4c3a-ad68-29fc76aa6679",
   "metadata": {},
   "outputs": [
    {
     "data": {
      "text/html": [
       "<div>\n",
       "<style scoped>\n",
       "    .dataframe tbody tr th:only-of-type {\n",
       "        vertical-align: middle;\n",
       "    }\n",
       "\n",
       "    .dataframe tbody tr th {\n",
       "        vertical-align: top;\n",
       "    }\n",
       "\n",
       "    .dataframe thead th {\n",
       "        text-align: right;\n",
       "    }\n",
       "</style>\n",
       "<table border=\"1\" class=\"dataframe\">\n",
       "  <thead>\n",
       "    <tr style=\"text-align: right;\">\n",
       "      <th></th>\n",
       "      <th>Model</th>\n",
       "      <th>RMSE</th>\n",
       "    </tr>\n",
       "  </thead>\n",
       "  <tbody>\n",
       "    <tr>\n",
       "      <th>0</th>\n",
       "      <td>LinearRegressor</td>\n",
       "      <td>105.659537</td>\n",
       "    </tr>\n",
       "    <tr>\n",
       "      <th>1</th>\n",
       "      <td>DecissionTree</td>\n",
       "      <td>109.410146</td>\n",
       "    </tr>\n",
       "    <tr>\n",
       "      <th>2</th>\n",
       "      <td>RandomForest</td>\n",
       "      <td>109.251032</td>\n",
       "    </tr>\n",
       "    <tr>\n",
       "      <th>3</th>\n",
       "      <td>GradientBoost</td>\n",
       "      <td>94.412290</td>\n",
       "    </tr>\n",
       "  </tbody>\n",
       "</table>\n",
       "</div>"
      ],
      "text/plain": [
       "             Model        RMSE\n",
       "0  LinearRegressor  105.659537\n",
       "1    DecissionTree  109.410146\n",
       "2     RandomForest  109.251032\n",
       "3    GradientBoost   94.412290"
      ]
     },
     "execution_count": 131,
     "metadata": {},
     "output_type": "execute_result"
    }
   ],
   "source": [
    "Results"
   ]
  },
  {
   "cell_type": "code",
   "execution_count": null,
   "id": "290b551e-3af5-4618-85d8-37f38f817374",
   "metadata": {},
   "outputs": [],
   "source": []
  }
 ],
 "metadata": {
  "kernelspec": {
   "display_name": "Python 3",
   "language": "python",
   "name": "python3"
  },
  "language_info": {
   "codemirror_mode": {
    "name": "ipython",
    "version": 3
   },
   "file_extension": ".py",
   "mimetype": "text/x-python",
   "name": "python",
   "nbconvert_exporter": "python",
   "pygments_lexer": "ipython3",
   "version": "3.8.8"
  }
 },
 "nbformat": 4,
 "nbformat_minor": 5
}
