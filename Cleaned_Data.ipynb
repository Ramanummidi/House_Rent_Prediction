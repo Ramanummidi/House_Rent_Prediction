{
 "cells": [
  {
   "cell_type": "markdown",
   "id": "f67301b1-7463-4a85-8f44-ee3fceabdaf3",
   "metadata": {},
   "source": [
    "<font size=\"5\">Data cleaning & Feature Engineering"
   ]
  },
  {
   "cell_type": "code",
   "execution_count": 3,
   "id": "227b0289-f348-4705-9186-3580e368ba82",
   "metadata": {},
   "outputs": [],
   "source": [
    "import pandas as pd\n",
    "import os"
   ]
  },
  {
   "cell_type": "code",
   "execution_count": 4,
   "id": "09ca53c8-f3f0-4443-b898-eecf634eb5f0",
   "metadata": {},
   "outputs": [
    {
     "data": {
      "text/plain": [
       "'D:\\\\IDMA\\\\Project2'"
      ]
     },
     "execution_count": 4,
     "metadata": {},
     "output_type": "execute_result"
    }
   ],
   "source": [
    "os.getcwd()"
   ]
  },
  {
   "cell_type": "code",
   "execution_count": 11,
   "id": "f2949cba-576b-4148-bf30-ee065e8132fd",
   "metadata": {},
   "outputs": [],
   "source": [
    "df = pd.read_csv('merged_airbnb.csv')"
   ]
  },
  {
   "cell_type": "code",
   "execution_count": 12,
   "id": "56caf4f4-605a-4af0-b7ef-256180b29b5f",
   "metadata": {},
   "outputs": [
    {
     "data": {
      "text/html": [
       "<div>\n",
       "<style scoped>\n",
       "    .dataframe tbody tr th:only-of-type {\n",
       "        vertical-align: middle;\n",
       "    }\n",
       "\n",
       "    .dataframe tbody tr th {\n",
       "        vertical-align: top;\n",
       "    }\n",
       "\n",
       "    .dataframe thead th {\n",
       "        text-align: right;\n",
       "    }\n",
       "</style>\n",
       "<table border=\"1\" class=\"dataframe\">\n",
       "  <thead>\n",
       "    <tr style=\"text-align: right;\">\n",
       "      <th></th>\n",
       "      <th>Unnamed: 0</th>\n",
       "      <th>index</th>\n",
       "      <th>listing_id</th>\n",
       "      <th>calender_id</th>\n",
       "      <th>available</th>\n",
       "      <th>price</th>\n",
       "      <th>adjusted_price</th>\n",
       "      <th>minimum_nights</th>\n",
       "      <th>maximum_nights</th>\n",
       "      <th>listing_url</th>\n",
       "      <th>...</th>\n",
       "      <th>bedrooms</th>\n",
       "      <th>beds</th>\n",
       "      <th>amenities</th>\n",
       "      <th>host_id</th>\n",
       "      <th>host_name</th>\n",
       "      <th>host_since</th>\n",
       "      <th>host_location</th>\n",
       "      <th>host_about</th>\n",
       "      <th>total_reviews</th>\n",
       "      <th>days_since_review</th>\n",
       "    </tr>\n",
       "  </thead>\n",
       "  <tbody>\n",
       "    <tr>\n",
       "      <th>0</th>\n",
       "      <td>0</td>\n",
       "      <td>0</td>\n",
       "      <td>50904</td>\n",
       "      <td>166029.333333</td>\n",
       "      <td>0.0</td>\n",
       "      <td>166.666667</td>\n",
       "      <td>158.666667</td>\n",
       "      <td>1.000000</td>\n",
       "      <td>60.0</td>\n",
       "      <td>https://www.airbnb.com/rooms/50904</td>\n",
       "      <td>...</td>\n",
       "      <td>1.0</td>\n",
       "      <td>1.0</td>\n",
       "      <td>[\"Kitchen\", \"Smoke alarm\", \"Hair dryer\", \"Keyp...</td>\n",
       "      <td>234077</td>\n",
       "      <td>Karin</td>\n",
       "      <td>2010-09-14</td>\n",
       "      <td>Antwerp, Flanders, Belgium</td>\n",
       "      <td>Ever since my childhood I dreamt of having my ...</td>\n",
       "      <td>2.0</td>\n",
       "      <td>1377.5</td>\n",
       "    </tr>\n",
       "    <tr>\n",
       "      <th>1</th>\n",
       "      <td>1</td>\n",
       "      <td>17</td>\n",
       "      <td>891884</td>\n",
       "      <td>30099.000000</td>\n",
       "      <td>0.0</td>\n",
       "      <td>175.000000</td>\n",
       "      <td>175.000000</td>\n",
       "      <td>1.666667</td>\n",
       "      <td>1125.0</td>\n",
       "      <td>https://www.airbnb.com/rooms/891884</td>\n",
       "      <td>...</td>\n",
       "      <td>1.0</td>\n",
       "      <td>1.0</td>\n",
       "      <td>[\"Refrigerator\", \"Kitchen\", \"Smoke alarm\", \"Ha...</td>\n",
       "      <td>234077</td>\n",
       "      <td>Karin</td>\n",
       "      <td>2010-09-14</td>\n",
       "      <td>Antwerp, Flanders, Belgium</td>\n",
       "      <td>Ever since my childhood I dreamt of having my ...</td>\n",
       "      <td>2.0</td>\n",
       "      <td>638.0</td>\n",
       "    </tr>\n",
       "  </tbody>\n",
       "</table>\n",
       "<p>2 rows × 28 columns</p>\n",
       "</div>"
      ],
      "text/plain": [
       "   Unnamed: 0  index  listing_id    calender_id  available       price  \\\n",
       "0           0      0       50904  166029.333333        0.0  166.666667   \n",
       "1           1     17      891884   30099.000000        0.0  175.000000   \n",
       "\n",
       "   adjusted_price  minimum_nights  maximum_nights  \\\n",
       "0      158.666667        1.000000            60.0   \n",
       "1      175.000000        1.666667          1125.0   \n",
       "\n",
       "                           listing_url  ... bedrooms beds  \\\n",
       "0   https://www.airbnb.com/rooms/50904  ...      1.0  1.0   \n",
       "1  https://www.airbnb.com/rooms/891884  ...      1.0  1.0   \n",
       "\n",
       "                                           amenities  host_id host_name  \\\n",
       "0  [\"Kitchen\", \"Smoke alarm\", \"Hair dryer\", \"Keyp...   234077     Karin   \n",
       "1  [\"Refrigerator\", \"Kitchen\", \"Smoke alarm\", \"Ha...   234077     Karin   \n",
       "\n",
       "   host_since               host_location  \\\n",
       "0  2010-09-14  Antwerp, Flanders, Belgium   \n",
       "1  2010-09-14  Antwerp, Flanders, Belgium   \n",
       "\n",
       "                                          host_about  total_reviews  \\\n",
       "0  Ever since my childhood I dreamt of having my ...            2.0   \n",
       "1  Ever since my childhood I dreamt of having my ...            2.0   \n",
       "\n",
       "   days_since_review  \n",
       "0             1377.5  \n",
       "1              638.0  \n",
       "\n",
       "[2 rows x 28 columns]"
      ]
     },
     "execution_count": 12,
     "metadata": {},
     "output_type": "execute_result"
    }
   ],
   "source": [
    "df.head(2)"
   ]
  },
  {
   "cell_type": "code",
   "execution_count": 13,
   "id": "65cd3926-ccc2-4005-b0fd-3fc861235e83",
   "metadata": {},
   "outputs": [
    {
     "data": {
      "text/html": [
       "<div>\n",
       "<style scoped>\n",
       "    .dataframe tbody tr th:only-of-type {\n",
       "        vertical-align: middle;\n",
       "    }\n",
       "\n",
       "    .dataframe tbody tr th {\n",
       "        vertical-align: top;\n",
       "    }\n",
       "\n",
       "    .dataframe thead th {\n",
       "        text-align: right;\n",
       "    }\n",
       "</style>\n",
       "<table border=\"1\" class=\"dataframe\">\n",
       "  <thead>\n",
       "    <tr style=\"text-align: right;\">\n",
       "      <th></th>\n",
       "      <th>Unnamed: 0</th>\n",
       "      <th>listing_id</th>\n",
       "      <th>calender_id</th>\n",
       "      <th>available</th>\n",
       "      <th>price</th>\n",
       "      <th>adjusted_price</th>\n",
       "      <th>minimum_nights</th>\n",
       "      <th>maximum_nights</th>\n",
       "      <th>listing_url</th>\n",
       "      <th>name</th>\n",
       "      <th>...</th>\n",
       "      <th>bedrooms</th>\n",
       "      <th>beds</th>\n",
       "      <th>amenities</th>\n",
       "      <th>host_id</th>\n",
       "      <th>host_name</th>\n",
       "      <th>host_since</th>\n",
       "      <th>host_location</th>\n",
       "      <th>host_about</th>\n",
       "      <th>total_reviews</th>\n",
       "      <th>days_since_review</th>\n",
       "    </tr>\n",
       "  </thead>\n",
       "  <tbody>\n",
       "    <tr>\n",
       "      <th>0</th>\n",
       "      <td>0</td>\n",
       "      <td>50904</td>\n",
       "      <td>166029.333333</td>\n",
       "      <td>0.0</td>\n",
       "      <td>166.666667</td>\n",
       "      <td>158.666667</td>\n",
       "      <td>1.000000</td>\n",
       "      <td>60.0</td>\n",
       "      <td>https://www.airbnb.com/rooms/50904</td>\n",
       "      <td>aplace/antwerp: cosy suite - fashion district</td>\n",
       "      <td>...</td>\n",
       "      <td>1.0</td>\n",
       "      <td>1.0</td>\n",
       "      <td>[\"Kitchen\", \"Smoke alarm\", \"Hair dryer\", \"Keyp...</td>\n",
       "      <td>234077</td>\n",
       "      <td>Karin</td>\n",
       "      <td>2010-09-14</td>\n",
       "      <td>Antwerp, Flanders, Belgium</td>\n",
       "      <td>Ever since my childhood I dreamt of having my ...</td>\n",
       "      <td>2.0</td>\n",
       "      <td>1377.5</td>\n",
       "    </tr>\n",
       "    <tr>\n",
       "      <th>1</th>\n",
       "      <td>1</td>\n",
       "      <td>891884</td>\n",
       "      <td>30099.000000</td>\n",
       "      <td>0.0</td>\n",
       "      <td>175.000000</td>\n",
       "      <td>175.000000</td>\n",
       "      <td>1.666667</td>\n",
       "      <td>1125.0</td>\n",
       "      <td>https://www.airbnb.com/rooms/891884</td>\n",
       "      <td>aplace/antwerp: amazing suite &amp; square view</td>\n",
       "      <td>...</td>\n",
       "      <td>1.0</td>\n",
       "      <td>1.0</td>\n",
       "      <td>[\"Refrigerator\", \"Kitchen\", \"Smoke alarm\", \"Ha...</td>\n",
       "      <td>234077</td>\n",
       "      <td>Karin</td>\n",
       "      <td>2010-09-14</td>\n",
       "      <td>Antwerp, Flanders, Belgium</td>\n",
       "      <td>Ever since my childhood I dreamt of having my ...</td>\n",
       "      <td>2.0</td>\n",
       "      <td>638.0</td>\n",
       "    </tr>\n",
       "  </tbody>\n",
       "</table>\n",
       "<p>2 rows × 27 columns</p>\n",
       "</div>"
      ],
      "text/plain": [
       "   Unnamed: 0  listing_id    calender_id  available       price  \\\n",
       "0           0       50904  166029.333333        0.0  166.666667   \n",
       "1           1      891884   30099.000000        0.0  175.000000   \n",
       "\n",
       "   adjusted_price  minimum_nights  maximum_nights  \\\n",
       "0      158.666667        1.000000            60.0   \n",
       "1      175.000000        1.666667          1125.0   \n",
       "\n",
       "                           listing_url  \\\n",
       "0   https://www.airbnb.com/rooms/50904   \n",
       "1  https://www.airbnb.com/rooms/891884   \n",
       "\n",
       "                                            name  ... bedrooms  beds  \\\n",
       "0  aplace/antwerp: cosy suite - fashion district  ...      1.0   1.0   \n",
       "1    aplace/antwerp: amazing suite & square view  ...      1.0   1.0   \n",
       "\n",
       "                                           amenities host_id host_name  \\\n",
       "0  [\"Kitchen\", \"Smoke alarm\", \"Hair dryer\", \"Keyp...  234077     Karin   \n",
       "1  [\"Refrigerator\", \"Kitchen\", \"Smoke alarm\", \"Ha...  234077     Karin   \n",
       "\n",
       "   host_since               host_location  \\\n",
       "0  2010-09-14  Antwerp, Flanders, Belgium   \n",
       "1  2010-09-14  Antwerp, Flanders, Belgium   \n",
       "\n",
       "                                          host_about  total_reviews  \\\n",
       "0  Ever since my childhood I dreamt of having my ...            2.0   \n",
       "1  Ever since my childhood I dreamt of having my ...            2.0   \n",
       "\n",
       "  days_since_review  \n",
       "0            1377.5  \n",
       "1             638.0  \n",
       "\n",
       "[2 rows x 27 columns]"
      ]
     },
     "execution_count": 13,
     "metadata": {},
     "output_type": "execute_result"
    }
   ],
   "source": [
    "df.drop(['index'],axis=1,inplace=True)\n",
    "df.head(2)"
   ]
  },
  {
   "cell_type": "code",
   "execution_count": 14,
   "id": "1d7297ea-38fa-4617-8473-5fc6de817cfb",
   "metadata": {},
   "outputs": [
    {
     "data": {
      "text/plain": [
       "<AxesSubplot:>"
      ]
     },
     "execution_count": 14,
     "metadata": {},
     "output_type": "execute_result"
    },
    {
     "data": {
      "image/png": "[encoded data removed]",
      "text/plain": [
       "<Figure size 432x288 with 1 Axes>"
      ]
     },
     "metadata": {
      "needs_background": "light"
     },
     "output_type": "display_data"
    }
   ],
   "source": [
    "df.isna().sum().plot(kind='bar')"
   ]
  },
  {
   "cell_type": "code",
   "execution_count": 15,
   "id": "0046cc3b-1e92-47af-aab5-42e270fc3406",
   "metadata": {},
   "outputs": [
    {
     "data": {
      "text/plain": [
       "<AxesSubplot:>"
      ]
     },
     "execution_count": 15,
     "metadata": {},
     "output_type": "execute_result"
    },
    {
     "data": {
      "image/png": "[encoded data removed]",
      "text/plain": [
       "<Figure size 432x288 with 1 Axes>"
      ]
     },
     "metadata": {
      "needs_background": "light"
     },
     "output_type": "display_data"
    }
   ],
   "source": [
    "df.drop(['host_about'],axis=1,inplace=True)\n",
    "df.isna().sum().plot(kind='bar')"
   ]
  },
  {
   "cell_type": "code",
   "execution_count": 16,
   "id": "19e07637-3e6c-45e5-b41b-0a831ba5bc78",
   "metadata": {},
   "outputs": [
    {
     "data": {
      "text/plain": [
       "Index(['Unnamed: 0', 'listing_id', 'calender_id', 'available', 'price',\n",
       "       'adjusted_price', 'minimum_nights', 'maximum_nights', 'listing_url',\n",
       "       'name', 'description', 'latitude', 'longitude', 'property_type',\n",
       "       'room_type', 'accomodates', 'bathrooms_text', 'bedrooms', 'beds',\n",
       "       'amenities', 'host_id', 'host_name', 'host_since', 'host_location',\n",
       "       'total_reviews', 'days_since_review'],\n",
       "      dtype='object')"
      ]
     },
     "execution_count": 16,
     "metadata": {},
     "output_type": "execute_result"
    }
   ],
   "source": [
    "df.columns"
   ]
  },
  {
   "cell_type": "code",
   "execution_count": 17,
   "id": "2161c58d-f521-4b67-9244-38974926fe67",
   "metadata": {},
   "outputs": [],
   "source": [
    "df.drop(['Unnamed: 0','calender_id','listing_url'],axis=1,inplace=True)"
   ]
  },
  {
   "cell_type": "code",
   "execution_count": 18,
   "id": "4ae8e9c4-da19-47c9-bfb7-f08c40cf3591",
   "metadata": {},
   "outputs": [
    {
     "data": {
      "text/plain": [
       "<AxesSubplot:>"
      ]
     },
     "execution_count": 18,
     "metadata": {},
     "output_type": "execute_result"
    },
    {
     "data": {
      "image/png": "[encoded data removed]",
      "text/plain": [
       "<Figure size 432x288 with 1 Axes>"
      ]
     },
     "metadata": {
      "needs_background": "light"
     },
     "output_type": "display_data"
    }
   ],
   "source": [
    "df.isna().sum(axis=1).plot()"
   ]
  },
  {
   "cell_type": "code",
   "execution_count": 23,
   "id": "cc74b9c3-1e1c-4a1b-af6d-93efcea68f48",
   "metadata": {},
   "outputs": [],
   "source": [
    "df = df[df.isna().sum(axis=1)<4]\n",
    "df.reset_index(level=0, inplace=True)\n",
    "df.drop(['index'],axis=1,inplace=True)"
   ]
  },
  {
   "cell_type": "code",
   "execution_count": 24,
   "id": "22d11978-b5c0-4cdc-9389-2eb9d9029553",
   "metadata": {},
   "outputs": [
    {
     "data": {
      "text/plain": [
       "(1743, 23)"
      ]
     },
     "execution_count": 24,
     "metadata": {},
     "output_type": "execute_result"
    }
   ],
   "source": [
    "df.shape"
   ]
  },
  {
   "cell_type": "code",
   "execution_count": 25,
   "id": "5471cf45-f8f4-4c6c-8376-15991b6bf710",
   "metadata": {},
   "outputs": [
    {
     "data": {
      "text/html": [
       "<div>\n",
       "<style scoped>\n",
       "    .dataframe tbody tr th:only-of-type {\n",
       "        vertical-align: middle;\n",
       "    }\n",
       "\n",
       "    .dataframe tbody tr th {\n",
       "        vertical-align: top;\n",
       "    }\n",
       "\n",
       "    .dataframe thead th {\n",
       "        text-align: right;\n",
       "    }\n",
       "</style>\n",
       "<table border=\"1\" class=\"dataframe\">\n",
       "  <thead>\n",
       "    <tr style=\"text-align: right;\">\n",
       "      <th></th>\n",
       "      <th>listing_id</th>\n",
       "      <th>available</th>\n",
       "      <th>price</th>\n",
       "      <th>adjusted_price</th>\n",
       "      <th>minimum_nights</th>\n",
       "      <th>maximum_nights</th>\n",
       "      <th>name</th>\n",
       "      <th>description</th>\n",
       "      <th>latitude</th>\n",
       "      <th>longitude</th>\n",
       "      <th>...</th>\n",
       "      <th>bathrooms_text</th>\n",
       "      <th>bedrooms</th>\n",
       "      <th>beds</th>\n",
       "      <th>amenities</th>\n",
       "      <th>host_id</th>\n",
       "      <th>host_name</th>\n",
       "      <th>host_since</th>\n",
       "      <th>host_location</th>\n",
       "      <th>total_reviews</th>\n",
       "      <th>days_since_review</th>\n",
       "    </tr>\n",
       "  </thead>\n",
       "  <tbody>\n",
       "    <tr>\n",
       "      <th>0</th>\n",
       "      <td>50904</td>\n",
       "      <td>0.0</td>\n",
       "      <td>166.666667</td>\n",
       "      <td>158.666667</td>\n",
       "      <td>1.000000</td>\n",
       "      <td>60.0</td>\n",
       "      <td>aplace/antwerp: cosy suite - fashion district</td>\n",
       "      <td>Decorated in a vintage style combined with a f...</td>\n",
       "      <td>51.218575</td>\n",
       "      <td>4.398631</td>\n",
       "      <td>...</td>\n",
       "      <td>1 private bath</td>\n",
       "      <td>1.0</td>\n",
       "      <td>1.0</td>\n",
       "      <td>[\"Kitchen\", \"Smoke alarm\", \"Hair dryer\", \"Keyp...</td>\n",
       "      <td>234077</td>\n",
       "      <td>Karin</td>\n",
       "      <td>2010-09-14</td>\n",
       "      <td>Antwerp, Flanders, Belgium</td>\n",
       "      <td>2.0</td>\n",
       "      <td>1377.5</td>\n",
       "    </tr>\n",
       "    <tr>\n",
       "      <th>1</th>\n",
       "      <td>891884</td>\n",
       "      <td>0.0</td>\n",
       "      <td>175.000000</td>\n",
       "      <td>175.000000</td>\n",
       "      <td>1.666667</td>\n",
       "      <td>1125.0</td>\n",
       "      <td>aplace/antwerp: amazing suite &amp; square view</td>\n",
       "      <td>This second floor suite with a splendid square...</td>\n",
       "      <td>51.218575</td>\n",
       "      <td>4.398631</td>\n",
       "      <td>...</td>\n",
       "      <td>1 private bath</td>\n",
       "      <td>1.0</td>\n",
       "      <td>1.0</td>\n",
       "      <td>[\"Refrigerator\", \"Kitchen\", \"Smoke alarm\", \"Ha...</td>\n",
       "      <td>234077</td>\n",
       "      <td>Karin</td>\n",
       "      <td>2010-09-14</td>\n",
       "      <td>Antwerp, Flanders, Belgium</td>\n",
       "      <td>2.0</td>\n",
       "      <td>638.0</td>\n",
       "    </tr>\n",
       "  </tbody>\n",
       "</table>\n",
       "<p>2 rows × 23 columns</p>\n",
       "</div>"
      ],
      "text/plain": [
       "   listing_id  available       price  adjusted_price  minimum_nights  \\\n",
       "0       50904        0.0  166.666667      158.666667        1.000000   \n",
       "1      891884        0.0  175.000000      175.000000        1.666667   \n",
       "\n",
       "   maximum_nights                                           name  \\\n",
       "0            60.0  aplace/antwerp: cosy suite - fashion district   \n",
       "1          1125.0    aplace/antwerp: amazing suite & square view   \n",
       "\n",
       "                                         description   latitude  longitude  \\\n",
       "0  Decorated in a vintage style combined with a f...  51.218575   4.398631   \n",
       "1  This second floor suite with a splendid square...  51.218575   4.398631   \n",
       "\n",
       "   ...  bathrooms_text bedrooms  beds  \\\n",
       "0  ...  1 private bath      1.0   1.0   \n",
       "1  ...  1 private bath      1.0   1.0   \n",
       "\n",
       "                                           amenities  host_id  host_name  \\\n",
       "0  [\"Kitchen\", \"Smoke alarm\", \"Hair dryer\", \"Keyp...   234077      Karin   \n",
       "1  [\"Refrigerator\", \"Kitchen\", \"Smoke alarm\", \"Ha...   234077      Karin   \n",
       "\n",
       "   host_since               host_location total_reviews days_since_review  \n",
       "0  2010-09-14  Antwerp, Flanders, Belgium           2.0            1377.5  \n",
       "1  2010-09-14  Antwerp, Flanders, Belgium           2.0             638.0  \n",
       "\n",
       "[2 rows x 23 columns]"
      ]
     },
     "execution_count": 25,
     "metadata": {},
     "output_type": "execute_result"
    }
   ],
   "source": [
    "df.head(2)"
   ]
  },
  {
   "cell_type": "markdown",
   "id": "d398d9fe-909f-4d5e-a962-369f18e406ce",
   "metadata": {},
   "source": [
    "<font size=\"5\">Filling of Blank values with appropriate values\n",
    "\n",
    "a) Total reviews with Zero values\n",
    "b) Latest review (Since review) with maximum values of the column"
   ]
  },
  {
   "cell_type": "code",
   "execution_count": 27,
   "id": "85f76d03-35cf-4143-9a03-1fa33f1332d6",
   "metadata": {},
   "outputs": [
    {
     "data": {
      "text/plain": [
       "<AxesSubplot:>"
      ]
     },
     "execution_count": 27,
     "metadata": {},
     "output_type": "execute_result"
    },
    {
     "data": {
      "image/png": "[encoded data removed]",
      "text/plain": [
       "<Figure size 432x288 with 1 Axes>"
      ]
     },
     "metadata": {
      "needs_background": "light"
     },
     "output_type": "display_data"
    }
   ],
   "source": [
    "df.isna().sum().plot(kind='bar')"
   ]
  },
  {
   "cell_type": "code",
   "execution_count": 28,
   "id": "26af8113-244b-4999-940d-9c23b78fa584",
   "metadata": {},
   "outputs": [],
   "source": [
    "df['total_reviews']=df['total_reviews'].fillna(0)"
   ]
  },
  {
   "cell_type": "code",
   "execution_count": 29,
   "id": "af9c7160-8cc4-4551-a6c7-fb9779f9a73e",
   "metadata": {},
   "outputs": [
    {
     "data": {
      "text/plain": [
       "<AxesSubplot:>"
      ]
     },
     "execution_count": 29,
     "metadata": {},
     "output_type": "execute_result"
    },
    {
     "data": {
      "image/png": "[encoded data removed]",
      "text/plain": [
       "<Figure size 432x288 with 1 Axes>"
      ]
     },
     "metadata": {
      "needs_background": "light"
     },
     "output_type": "display_data"
    }
   ],
   "source": [
    "df.isna().sum().plot(kind='bar')"
   ]
  },
  {
   "cell_type": "code",
   "execution_count": 48,
   "id": "49cb7e4e-e73c-423a-9071-e4d0d7728d55",
   "metadata": {},
   "outputs": [],
   "source": [
    "#import datetime\n",
    "#basedate2=datetime.date.today()\n",
    "df['days_since_review']=df['days_since_review'].fillna(df['days_since_review'].max())"
   ]
  },
  {
   "cell_type": "code",
   "execution_count": 49,
   "id": "494d22c0-bf9c-430c-a8b0-ede6f0ec51a8",
   "metadata": {},
   "outputs": [
    {
     "data": {
      "text/plain": [
       "<AxesSubplot:>"
      ]
     },
     "execution_count": 49,
     "metadata": {},
     "output_type": "execute_result"
    },
    {
     "data": {
      "image/png": "[encoded data removed]",
      "text/plain": [
       "<Figure size 432x288 with 1 Axes>"
      ]
     },
     "metadata": {
      "needs_background": "light"
     },
     "output_type": "display_data"
    }
   ],
   "source": [
    "df.isna().sum().plot(kind='bar')"
   ]
  },
  {
   "cell_type": "code",
   "execution_count": 61,
   "id": "f911b5ad-d972-4411-a0fb-a3cd69428732",
   "metadata": {},
   "outputs": [
    {
     "data": {
      "text/plain": [
       "<AxesSubplot:xlabel='property_type'>"
      ]
     },
     "execution_count": 61,
     "metadata": {},
     "output_type": "execute_result"
    },
    {
     "data": {
      "image/png": "[encoded data removed]",
      "text/plain": [
       "<Figure size 432x288 with 1 Axes>"
      ]
     },
     "metadata": {
      "needs_background": "light"
     },
     "output_type": "display_data"
    }
   ],
   "source": [
    "df.groupby('property_type').mean()[['bedrooms']].plot(kind='bar')"
   ]
  },
  {
   "cell_type": "markdown",
   "id": "7c14f23a-9314-40c3-a586-2bc73d7098c1",
   "metadata": {},
   "source": [
    "<font size=\"5\"> Blank Bed room values filled based on number accomadates"
   ]
  },
  {
   "cell_type": "code",
   "execution_count": 60,
   "id": "93750a7c-1eac-4395-b8fa-6b1baa03b077",
   "metadata": {},
   "outputs": [
    {
     "data": {
      "text/plain": [
       "<AxesSubplot:xlabel='accomodates'>"
      ]
     },
     "execution_count": 60,
     "metadata": {},
     "output_type": "execute_result"
    },
    {
     "data": {
      "image/png": "[encoded data removed]",
      "text/plain": [
       "<Figure size 432x288 with 1 Axes>"
      ]
     },
     "metadata": {
      "needs_background": "light"
     },
     "output_type": "display_data"
    }
   ],
   "source": [
    "df.groupby('accomodates').mean()[['bedrooms']].plot(kind='bar')"
   ]
  },
  {
   "cell_type": "code",
   "execution_count": 87,
   "id": "b1736a54-6e50-4f16-ac97-9faeb387de11",
   "metadata": {},
   "outputs": [
    {
     "data": {
      "text/plain": [
       "{1: 1.0,\n",
       " 2: 1.0,\n",
       " 3: 1.0,\n",
       " 4: 2.0,\n",
       " 5: 2.0,\n",
       " 6: 2.0,\n",
       " 7: 2.0,\n",
       " 8: 2.0,\n",
       " 9: 2.0,\n",
       " 10: 4.0,\n",
       " 11: 2.0,\n",
       " 12: 2.0,\n",
       " 14: 3.0,\n",
       " 15: 3.0,\n",
       " 16: 8.0}"
      ]
     },
     "execution_count": 87,
     "metadata": {},
     "output_type": "execute_result"
    }
   ],
   "source": [
    "bedroom_dict = df.groupby('accomodates').mean()['bedrooms'].to_dict()\n",
    "bedroom_dict = {key : round(bedroom_dict[key],0) for key in bedroom_dict}\n",
    "bedroom_dict"
   ]
  },
  {
   "cell_type": "code",
   "execution_count": 81,
   "id": "41ebb0cc-b2e9-415d-97a8-6979e05ccc1c",
   "metadata": {},
   "outputs": [],
   "source": [
    "bedrooms = df.groupby('accomodates').mean()['bedrooms']"
   ]
  },
  {
   "cell_type": "code",
   "execution_count": 92,
   "id": "3090bf33-fb34-4a76-a804-6ba261e9c5cb",
   "metadata": {},
   "outputs": [],
   "source": [
    "data = pd.DataFrame.from_dict(bedroom_dict, orient ='index')"
   ]
  },
  {
   "cell_type": "code",
   "execution_count": 93,
   "id": "c68d40bf-2793-4b52-9c27-c1ba0e6d80c2",
   "metadata": {},
   "outputs": [
    {
     "data": {
      "text/html": [
       "<div>\n",
       "<style scoped>\n",
       "    .dataframe tbody tr th:only-of-type {\n",
       "        vertical-align: middle;\n",
       "    }\n",
       "\n",
       "    .dataframe tbody tr th {\n",
       "        vertical-align: top;\n",
       "    }\n",
       "\n",
       "    .dataframe thead th {\n",
       "        text-align: right;\n",
       "    }\n",
       "</style>\n",
       "<table border=\"1\" class=\"dataframe\">\n",
       "  <thead>\n",
       "    <tr style=\"text-align: right;\">\n",
       "      <th></th>\n",
       "      <th>0</th>\n",
       "    </tr>\n",
       "  </thead>\n",
       "  <tbody>\n",
       "    <tr>\n",
       "      <th>1</th>\n",
       "      <td>1.0</td>\n",
       "    </tr>\n",
       "    <tr>\n",
       "      <th>2</th>\n",
       "      <td>1.0</td>\n",
       "    </tr>\n",
       "    <tr>\n",
       "      <th>3</th>\n",
       "      <td>1.0</td>\n",
       "    </tr>\n",
       "    <tr>\n",
       "      <th>4</th>\n",
       "      <td>2.0</td>\n",
       "    </tr>\n",
       "    <tr>\n",
       "      <th>5</th>\n",
       "      <td>2.0</td>\n",
       "    </tr>\n",
       "    <tr>\n",
       "      <th>6</th>\n",
       "      <td>2.0</td>\n",
       "    </tr>\n",
       "    <tr>\n",
       "      <th>7</th>\n",
       "      <td>2.0</td>\n",
       "    </tr>\n",
       "    <tr>\n",
       "      <th>8</th>\n",
       "      <td>2.0</td>\n",
       "    </tr>\n",
       "    <tr>\n",
       "      <th>9</th>\n",
       "      <td>2.0</td>\n",
       "    </tr>\n",
       "    <tr>\n",
       "      <th>10</th>\n",
       "      <td>4.0</td>\n",
       "    </tr>\n",
       "    <tr>\n",
       "      <th>11</th>\n",
       "      <td>2.0</td>\n",
       "    </tr>\n",
       "    <tr>\n",
       "      <th>12</th>\n",
       "      <td>2.0</td>\n",
       "    </tr>\n",
       "    <tr>\n",
       "      <th>14</th>\n",
       "      <td>3.0</td>\n",
       "    </tr>\n",
       "    <tr>\n",
       "      <th>15</th>\n",
       "      <td>3.0</td>\n",
       "    </tr>\n",
       "    <tr>\n",
       "      <th>16</th>\n",
       "      <td>8.0</td>\n",
       "    </tr>\n",
       "  </tbody>\n",
       "</table>\n",
       "</div>"
      ],
      "text/plain": [
       "      0\n",
       "1   1.0\n",
       "2   1.0\n",
       "3   1.0\n",
       "4   2.0\n",
       "5   2.0\n",
       "6   2.0\n",
       "7   2.0\n",
       "8   2.0\n",
       "9   2.0\n",
       "10  4.0\n",
       "11  2.0\n",
       "12  2.0\n",
       "14  3.0\n",
       "15  3.0\n",
       "16  8.0"
      ]
     },
     "execution_count": 93,
     "metadata": {},
     "output_type": "execute_result"
    }
   ],
   "source": [
    "data"
   ]
  },
  {
   "cell_type": "code",
   "execution_count": 101,
   "id": "53d181f9-a88f-4529-bee5-bbb7dc06f7ef",
   "metadata": {},
   "outputs": [
    {
     "data": {
      "text/html": [
       "<div>\n",
       "<style scoped>\n",
       "    .dataframe tbody tr th:only-of-type {\n",
       "        vertical-align: middle;\n",
       "    }\n",
       "\n",
       "    .dataframe tbody tr th {\n",
       "        vertical-align: top;\n",
       "    }\n",
       "\n",
       "    .dataframe thead th {\n",
       "        text-align: right;\n",
       "    }\n",
       "</style>\n",
       "<table border=\"1\" class=\"dataframe\">\n",
       "  <thead>\n",
       "    <tr style=\"text-align: right;\">\n",
       "      <th></th>\n",
       "      <th>bedrooms_mean</th>\n",
       "    </tr>\n",
       "  </thead>\n",
       "  <tbody>\n",
       "    <tr>\n",
       "      <th>1</th>\n",
       "      <td>1.0</td>\n",
       "    </tr>\n",
       "    <tr>\n",
       "      <th>2</th>\n",
       "      <td>1.0</td>\n",
       "    </tr>\n",
       "    <tr>\n",
       "      <th>3</th>\n",
       "      <td>1.0</td>\n",
       "    </tr>\n",
       "    <tr>\n",
       "      <th>4</th>\n",
       "      <td>2.0</td>\n",
       "    </tr>\n",
       "    <tr>\n",
       "      <th>5</th>\n",
       "      <td>2.0</td>\n",
       "    </tr>\n",
       "    <tr>\n",
       "      <th>6</th>\n",
       "      <td>2.0</td>\n",
       "    </tr>\n",
       "    <tr>\n",
       "      <th>7</th>\n",
       "      <td>2.0</td>\n",
       "    </tr>\n",
       "    <tr>\n",
       "      <th>8</th>\n",
       "      <td>2.0</td>\n",
       "    </tr>\n",
       "    <tr>\n",
       "      <th>9</th>\n",
       "      <td>2.0</td>\n",
       "    </tr>\n",
       "    <tr>\n",
       "      <th>10</th>\n",
       "      <td>4.0</td>\n",
       "    </tr>\n",
       "    <tr>\n",
       "      <th>11</th>\n",
       "      <td>2.0</td>\n",
       "    </tr>\n",
       "    <tr>\n",
       "      <th>12</th>\n",
       "      <td>2.0</td>\n",
       "    </tr>\n",
       "    <tr>\n",
       "      <th>14</th>\n",
       "      <td>3.0</td>\n",
       "    </tr>\n",
       "    <tr>\n",
       "      <th>15</th>\n",
       "      <td>3.0</td>\n",
       "    </tr>\n",
       "    <tr>\n",
       "      <th>16</th>\n",
       "      <td>8.0</td>\n",
       "    </tr>\n",
       "  </tbody>\n",
       "</table>\n",
       "</div>"
      ],
      "text/plain": [
       "    bedrooms_mean\n",
       "1             1.0\n",
       "2             1.0\n",
       "3             1.0\n",
       "4             2.0\n",
       "5             2.0\n",
       "6             2.0\n",
       "7             2.0\n",
       "8             2.0\n",
       "9             2.0\n",
       "10            4.0\n",
       "11            2.0\n",
       "12            2.0\n",
       "14            3.0\n",
       "15            3.0\n",
       "16            8.0"
      ]
     },
     "execution_count": 101,
     "metadata": {},
     "output_type": "execute_result"
    }
   ],
   "source": [
    "data.rename(columns = {0 :'bedrooms_mean'}, inplace = True)\n",
    "data"
   ]
  },
  {
   "cell_type": "code",
   "execution_count": 102,
   "id": "50d0b47c-c8e1-47f6-8a36-aa750ccf8df3",
   "metadata": {},
   "outputs": [],
   "source": [
    "fillvalues = df[df['bedrooms'].isna()]['accomodates'].map(bedroom_dict)"
   ]
  },
  {
   "cell_type": "code",
   "execution_count": 103,
   "id": "7401a5bc-fc28-4cfe-825e-b1bff0bb5f7c",
   "metadata": {},
   "outputs": [
    {
     "data": {
      "text/plain": [
       "81      2.0\n",
       "89      1.0\n",
       "90      1.0\n",
       "107     1.0\n",
       "114     1.0\n",
       "       ... \n",
       "1635    1.0\n",
       "1667    2.0\n",
       "1696    2.0\n",
       "1697    1.0\n",
       "1740    1.0\n",
       "Name: accomodates, Length: 125, dtype: float64"
      ]
     },
     "execution_count": 103,
     "metadata": {},
     "output_type": "execute_result"
    }
   ],
   "source": [
    "fillvalues"
   ]
  },
  {
   "cell_type": "code",
   "execution_count": 117,
   "id": "0480fe3a-514e-4e4c-9590-b9c5bc574114",
   "metadata": {},
   "outputs": [],
   "source": [
    "fill_index = df[pd.isna(df.bedrooms)].index"
   ]
  },
  {
   "cell_type": "code",
   "execution_count": 118,
   "id": "a2e18f8e-311f-40a4-b8aa-5d42bdf5f4fb",
   "metadata": {},
   "outputs": [
    {
     "data": {
      "text/plain": [
       "Int64Index([  81,   89,   90,  107,  114,  134,  150,  151,  152,  166,\n",
       "            ...\n",
       "            1504, 1525, 1561, 1577, 1619, 1635, 1667, 1696, 1697, 1740],\n",
       "           dtype='int64', length=125)"
      ]
     },
     "execution_count": 118,
     "metadata": {},
     "output_type": "execute_result"
    }
   ],
   "source": [
    "fill_index"
   ]
  },
  {
   "cell_type": "code",
   "execution_count": 119,
   "id": "0aa00cbd-b065-4a67-a59a-211f5ad46544",
   "metadata": {},
   "outputs": [],
   "source": [
    "for i,j in enumerate(fill_index):\n",
    "    df.iloc[j,14] = fillvalues.iloc[i]"
   ]
  },
  {
   "cell_type": "code",
   "execution_count": 120,
   "id": "b1826dd9-8b93-4fa4-854d-a7750b5a15c6",
   "metadata": {},
   "outputs": [
    {
     "data": {
      "text/plain": [
       "<AxesSubplot:>"
      ]
     },
     "execution_count": 120,
     "metadata": {},
     "output_type": "execute_result"
    },
    {
     "data": {
      "image/png": "[encoded data removed]",
      "text/plain": [
       "<Figure size 432x288 with 1 Axes>"
      ]
     },
     "metadata": {
      "needs_background": "light"
     },
     "output_type": "display_data"
    }
   ],
   "source": [
    "df.isna().sum().plot(kind='bar')"
   ]
  },
  {
   "cell_type": "code",
   "execution_count": 122,
   "id": "295f9f65-e316-4e1f-a487-087a49a2d558",
   "metadata": {},
   "outputs": [],
   "source": [
    "filling_index = df[pd.isna(df.beds)].index\n",
    "fill_bed = df[df['beds'].isna()]['accomodates'].map(bedroom_dict)"
   ]
  },
  {
   "cell_type": "code",
   "execution_count": 123,
   "id": "b9ed1710-00d3-48ce-9213-415d7bfa5a62",
   "metadata": {},
   "outputs": [],
   "source": [
    "for i,j in enumerate(filling_index):\n",
    "    df.iloc[j,15] = fillvalues.iloc[i]"
   ]
  },
  {
   "cell_type": "code",
   "execution_count": 124,
   "id": "530fdbb9-1003-40db-aef2-8b9d23c7c255",
   "metadata": {},
   "outputs": [
    {
     "data": {
      "text/plain": [
       "<AxesSubplot:>"
      ]
     },
     "execution_count": 124,
     "metadata": {},
     "output_type": "execute_result"
    },
    {
     "data": {
      "image/png": "[encoded data removed]",
      "text/plain": [
       "<Figure size 432x288 with 1 Axes>"
      ]
     },
     "metadata": {
      "needs_background": "light"
     },
     "output_type": "display_data"
    }
   ],
   "source": [
    "df.isna().sum().plot(kind='bar')"
   ]
  },
  {
   "cell_type": "code",
   "execution_count": 125,
   "id": "00bc0287-793e-4497-a5ae-5cee3bd60b49",
   "metadata": {},
   "outputs": [],
   "source": [
    "df.drop(['description'],axis=1,inplace=True)"
   ]
  },
  {
   "cell_type": "code",
   "execution_count": 126,
   "id": "a935bae3-756f-4e69-ab78-3be8e698738a",
   "metadata": {},
   "outputs": [
    {
     "data": {
      "text/plain": [
       "<AxesSubplot:>"
      ]
     },
     "execution_count": 126,
     "metadata": {},
     "output_type": "execute_result"
    },
    {
     "data": {
      "image/png": "[encoded data removed]",
      "text/plain": [
       "<Figure size 432x288 with 1 Axes>"
      ]
     },
     "metadata": {
      "needs_background": "light"
     },
     "output_type": "display_data"
    }
   ],
   "source": [
    "df.isna().sum().plot(kind='bar')"
   ]
  },
  {
   "cell_type": "markdown",
   "id": "3e3c1b15-86dd-477f-90f9-e7a62247eb91",
   "metadata": {},
   "source": [
    "<font size=\"5\">Removed blank \"Host Location\" rows as we can't take any reference"
   ]
  },
  {
   "cell_type": "code",
   "execution_count": 129,
   "id": "88016e2b-9164-4c27-a260-2a3f8c0b472b",
   "metadata": {},
   "outputs": [],
   "source": [
    "not_na = df['host_location'].notna()\n",
    "df = df[not_na]"
   ]
  },
  {
   "cell_type": "code",
   "execution_count": 130,
   "id": "cb1d908a-e515-42b6-ab43-58fc7c09d2c8",
   "metadata": {},
   "outputs": [
    {
     "data": {
      "text/html": [
       "<div>\n",
       "<style scoped>\n",
       "    .dataframe tbody tr th:only-of-type {\n",
       "        vertical-align: middle;\n",
       "    }\n",
       "\n",
       "    .dataframe tbody tr th {\n",
       "        vertical-align: top;\n",
       "    }\n",
       "\n",
       "    .dataframe thead th {\n",
       "        text-align: right;\n",
       "    }\n",
       "</style>\n",
       "<table border=\"1\" class=\"dataframe\">\n",
       "  <thead>\n",
       "    <tr style=\"text-align: right;\">\n",
       "      <th></th>\n",
       "      <th>listing_id</th>\n",
       "      <th>available</th>\n",
       "      <th>price</th>\n",
       "      <th>adjusted_price</th>\n",
       "      <th>minimum_nights</th>\n",
       "      <th>maximum_nights</th>\n",
       "      <th>name</th>\n",
       "      <th>latitude</th>\n",
       "      <th>longitude</th>\n",
       "      <th>property_type</th>\n",
       "      <th>...</th>\n",
       "      <th>bathrooms_text</th>\n",
       "      <th>bedrooms</th>\n",
       "      <th>beds</th>\n",
       "      <th>amenities</th>\n",
       "      <th>host_id</th>\n",
       "      <th>host_name</th>\n",
       "      <th>host_since</th>\n",
       "      <th>host_location</th>\n",
       "      <th>total_reviews</th>\n",
       "      <th>days_since_review</th>\n",
       "    </tr>\n",
       "  </thead>\n",
       "  <tbody>\n",
       "    <tr>\n",
       "      <th>0</th>\n",
       "      <td>50904</td>\n",
       "      <td>0.0</td>\n",
       "      <td>166.666667</td>\n",
       "      <td>158.666667</td>\n",
       "      <td>1.000000</td>\n",
       "      <td>60.0</td>\n",
       "      <td>aplace/antwerp: cosy suite - fashion district</td>\n",
       "      <td>51.218575</td>\n",
       "      <td>4.398631</td>\n",
       "      <td>Room in boutique hotel</td>\n",
       "      <td>...</td>\n",
       "      <td>1 private bath</td>\n",
       "      <td>1.0</td>\n",
       "      <td>1.0</td>\n",
       "      <td>[\"Kitchen\", \"Smoke alarm\", \"Hair dryer\", \"Keyp...</td>\n",
       "      <td>234077</td>\n",
       "      <td>Karin</td>\n",
       "      <td>2010-09-14</td>\n",
       "      <td>Antwerp, Flanders, Belgium</td>\n",
       "      <td>2.0</td>\n",
       "      <td>1377.5</td>\n",
       "    </tr>\n",
       "    <tr>\n",
       "      <th>1</th>\n",
       "      <td>891884</td>\n",
       "      <td>0.0</td>\n",
       "      <td>175.000000</td>\n",
       "      <td>175.000000</td>\n",
       "      <td>1.666667</td>\n",
       "      <td>1125.0</td>\n",
       "      <td>aplace/antwerp: amazing suite &amp; square view</td>\n",
       "      <td>51.218575</td>\n",
       "      <td>4.398631</td>\n",
       "      <td>Room in boutique hotel</td>\n",
       "      <td>...</td>\n",
       "      <td>1 private bath</td>\n",
       "      <td>1.0</td>\n",
       "      <td>1.0</td>\n",
       "      <td>[\"Refrigerator\", \"Kitchen\", \"Smoke alarm\", \"Ha...</td>\n",
       "      <td>234077</td>\n",
       "      <td>Karin</td>\n",
       "      <td>2010-09-14</td>\n",
       "      <td>Antwerp, Flanders, Belgium</td>\n",
       "      <td>2.0</td>\n",
       "      <td>638.0</td>\n",
       "    </tr>\n",
       "  </tbody>\n",
       "</table>\n",
       "<p>2 rows × 22 columns</p>\n",
       "</div>"
      ],
      "text/plain": [
       "   listing_id  available       price  adjusted_price  minimum_nights  \\\n",
       "0       50904        0.0  166.666667      158.666667        1.000000   \n",
       "1      891884        0.0  175.000000      175.000000        1.666667   \n",
       "\n",
       "   maximum_nights                                           name   latitude  \\\n",
       "0            60.0  aplace/antwerp: cosy suite - fashion district  51.218575   \n",
       "1          1125.0    aplace/antwerp: amazing suite & square view  51.218575   \n",
       "\n",
       "   longitude           property_type  ...  bathrooms_text  bedrooms beds  \\\n",
       "0   4.398631  Room in boutique hotel  ...  1 private bath       1.0  1.0   \n",
       "1   4.398631  Room in boutique hotel  ...  1 private bath       1.0  1.0   \n",
       "\n",
       "                                           amenities  host_id host_name  \\\n",
       "0  [\"Kitchen\", \"Smoke alarm\", \"Hair dryer\", \"Keyp...   234077     Karin   \n",
       "1  [\"Refrigerator\", \"Kitchen\", \"Smoke alarm\", \"Ha...   234077     Karin   \n",
       "\n",
       "   host_since               host_location total_reviews days_since_review  \n",
       "0  2010-09-14  Antwerp, Flanders, Belgium           2.0            1377.5  \n",
       "1  2010-09-14  Antwerp, Flanders, Belgium           2.0             638.0  \n",
       "\n",
       "[2 rows x 22 columns]"
      ]
     },
     "execution_count": 130,
     "metadata": {},
     "output_type": "execute_result"
    }
   ],
   "source": []
  },
  {
   "cell_type": "code",
   "execution_count": 131,
   "id": "de7c5259-d054-49ba-9d97-e2be3287407c",
   "metadata": {},
   "outputs": [
    {
     "data": {
      "text/plain": [
       "<AxesSubplot:>"
      ]
     },
     "execution_count": 131,
     "metadata": {},
     "output_type": "execute_result"
    },
    {
     "data": {
      "image/png": "[encoded data removed]",
      "text/plain": [
       "<Figure size 432x288 with 1 Axes>"
      ]
     },
     "metadata": {
      "needs_background": "light"
     },
     "output_type": "display_data"
    }
   ],
   "source": [
    "df.isna().sum().plot(kind='bar')"
   ]
  },
  {
   "cell_type": "code",
   "execution_count": 138,
   "id": "399ef25e-c8f6-4f14-8ac1-5bb5568edf53",
   "metadata": {},
   "outputs": [
    {
     "data": {
      "text/plain": [
       "Index(['listing_id', 'available', 'price', 'adjusted_price', 'minimum_nights',\n",
       "       'maximum_nights', 'name', 'latitude', 'longitude', 'property_type',\n",
       "       'room_type', 'accomodates', 'bathrooms_text', 'bedrooms', 'beds',\n",
       "       'amenities', 'host_id', 'host_name', 'host_since', 'host_location',\n",
       "       'total_reviews', 'days_since_review'],\n",
       "      dtype='object')"
      ]
     },
     "execution_count": 138,
     "metadata": {},
     "output_type": "execute_result"
    }
   ],
   "source": [
    "df.columns"
   ]
  },
  {
   "cell_type": "code",
   "execution_count": 139,
   "id": "b84b9519-92f7-4ab9-9829-86958b23a80a",
   "metadata": {},
   "outputs": [
    {
     "name": "stdout",
     "output_type": "stream",
     "text": [
      "<class 'pandas.core.frame.DataFrame'>\n",
      "Int64Index: 1740 entries, 0 to 1742\n",
      "Data columns (total 22 columns):\n",
      " #   Column             Non-Null Count  Dtype  \n",
      "---  ------             --------------  -----  \n",
      " 0   listing_id         1740 non-null   int64  \n",
      " 1   available          1740 non-null   float64\n",
      " 2   price              1740 non-null   float64\n",
      " 3   adjusted_price     1740 non-null   float64\n",
      " 4   minimum_nights     1740 non-null   float64\n",
      " 5   maximum_nights     1740 non-null   float64\n",
      " 6   name               1740 non-null   object \n",
      " 7   latitude           1740 non-null   float64\n",
      " 8   longitude          1740 non-null   float64\n",
      " 9   property_type      1740 non-null   object \n",
      " 10  room_type          1740 non-null   object \n",
      " 11  accomodates        1740 non-null   int64  \n",
      " 12  bathrooms_text     1740 non-null   object \n",
      " 13  bedrooms           1740 non-null   float64\n",
      " 14  beds               1740 non-null   float64\n",
      " 15  amenities          1740 non-null   object \n",
      " 16  host_id            1740 non-null   int64  \n",
      " 17  host_name          1740 non-null   object \n",
      " 18  host_since         1740 non-null   object \n",
      " 19  host_location      1740 non-null   object \n",
      " 20  total_reviews      1740 non-null   float64\n",
      " 21  days_since_review  1740 non-null   float64\n",
      "dtypes: float64(11), int64(3), object(8)\n",
      "memory usage: 312.7+ KB\n"
     ]
    }
   ],
   "source": [
    "df.info()"
   ]
  },
  {
   "cell_type": "markdown",
   "id": "dbb2a4c4-0ccd-4b04-8cea-7f9442402442",
   "metadata": {},
   "source": [
    "<font size=\"5\">Crfeation of new column \"No_of_Amenities\" which can affect the price"
   ]
  },
  {
   "cell_type": "code",
   "execution_count": 142,
   "id": "e65c3e02-3f99-40f8-a795-5278fed0155b",
   "metadata": {},
   "outputs": [
    {
     "data": {
      "text/html": [
       "<div>\n",
       "<style scoped>\n",
       "    .dataframe tbody tr th:only-of-type {\n",
       "        vertical-align: middle;\n",
       "    }\n",
       "\n",
       "    .dataframe tbody tr th {\n",
       "        vertical-align: top;\n",
       "    }\n",
       "\n",
       "    .dataframe thead th {\n",
       "        text-align: right;\n",
       "    }\n",
       "</style>\n",
       "<table border=\"1\" class=\"dataframe\">\n",
       "  <thead>\n",
       "    <tr style=\"text-align: right;\">\n",
       "      <th></th>\n",
       "      <th>amenities</th>\n",
       "    </tr>\n",
       "    <tr>\n",
       "      <th>listing_id</th>\n",
       "      <th></th>\n",
       "    </tr>\n",
       "  </thead>\n",
       "  <tbody>\n",
       "    <tr>\n",
       "      <th>50904</th>\n",
       "      <td>1</td>\n",
       "    </tr>\n",
       "    <tr>\n",
       "      <th>116134</th>\n",
       "      <td>1</td>\n",
       "    </tr>\n",
       "    <tr>\n",
       "      <th>218916</th>\n",
       "      <td>1</td>\n",
       "    </tr>\n",
       "    <tr>\n",
       "      <th>224333</th>\n",
       "      <td>1</td>\n",
       "    </tr>\n",
       "    <tr>\n",
       "      <th>224682</th>\n",
       "      <td>1</td>\n",
       "    </tr>\n",
       "    <tr>\n",
       "      <th>...</th>\n",
       "      <td>...</td>\n",
       "    </tr>\n",
       "    <tr>\n",
       "      <th>53916524</th>\n",
       "      <td>1</td>\n",
       "    </tr>\n",
       "    <tr>\n",
       "      <th>53928545</th>\n",
       "      <td>1</td>\n",
       "    </tr>\n",
       "    <tr>\n",
       "      <th>53929354</th>\n",
       "      <td>1</td>\n",
       "    </tr>\n",
       "    <tr>\n",
       "      <th>53949105</th>\n",
       "      <td>1</td>\n",
       "    </tr>\n",
       "    <tr>\n",
       "      <th>53983318</th>\n",
       "      <td>1</td>\n",
       "    </tr>\n",
       "  </tbody>\n",
       "</table>\n",
       "<p>1740 rows × 1 columns</p>\n",
       "</div>"
      ],
      "text/plain": [
       "            amenities\n",
       "listing_id           \n",
       "50904               1\n",
       "116134              1\n",
       "218916              1\n",
       "224333              1\n",
       "224682              1\n",
       "...               ...\n",
       "53916524            1\n",
       "53928545            1\n",
       "53929354            1\n",
       "53949105            1\n",
       "53983318            1\n",
       "\n",
       "[1740 rows x 1 columns]"
      ]
     },
     "execution_count": 142,
     "metadata": {},
     "output_type": "execute_result"
    }
   ],
   "source": [
    "df.groupby('listing_id')[['amenities']].count()"
   ]
  },
  {
   "cell_type": "code",
   "execution_count": 254,
   "id": "c6b338cf-8910-45e6-a918-0dbd1c010ab0",
   "metadata": {},
   "outputs": [],
   "source": [
    "df['no_of_amenities'] = df['amenities'].map(len)"
   ]
  },
  {
   "cell_type": "code",
   "execution_count": 255,
   "id": "71ee6988-5eb6-4776-932c-3a44dbbcc604",
   "metadata": {},
   "outputs": [
    {
     "data": {
      "text/plain": [
       "0       591\n",
       "1       550\n",
       "2       796\n",
       "3       765\n",
       "4       823\n",
       "       ... \n",
       "1738    128\n",
       "1739    715\n",
       "1740    158\n",
       "1741    609\n",
       "1742    678\n",
       "Name: no_of_amenities, Length: 1740, dtype: int64"
      ]
     },
     "execution_count": 255,
     "metadata": {},
     "output_type": "execute_result"
    }
   ],
   "source": [
    "df['no_of_amenities']"
   ]
  },
  {
   "cell_type": "markdown",
   "id": "7b8ccec0-b11b-4ff6-be10-775e9b8fd724",
   "metadata": {},
   "source": [
    "<font size=\"5\">Creation of new columns \"No_of_bathrooms\" & \"Bathrooms_type\""
   ]
  },
  {
   "cell_type": "code",
   "execution_count": 281,
   "id": "ae487df4-f8b8-4bc9-b941-537e208117bc",
   "metadata": {},
   "outputs": [
    {
     "data": {
      "text/plain": [
       "array(['1 private bath', '1.5 baths', '2.5 baths', '1 bath',\n",
       "       '2 shared baths', '3 shared baths', 'Shared half-bath',\n",
       "       '1.5 shared baths', '2 baths', '1 shared bath', '3.5 baths',\n",
       "       '3 baths', '2.5 shared baths', '8.5 baths', '4 baths', '0 baths',\n",
       "       '5 baths', 'Half-bath', 'Private half-bath', '4 shared baths',\n",
       "       '0 shared baths', '6.5 baths', '15.5 baths', '8 baths', '6 baths',\n",
       "       '7.5 baths'], dtype=object)"
      ]
     },
     "execution_count": 281,
     "metadata": {},
     "output_type": "execute_result"
    }
   ],
   "source": [
    "df['bathrooms_text'].unique()"
   ]
  },
  {
   "cell_type": "code",
   "execution_count": 285,
   "id": "b3e9b736-08c5-454d-9fab-de0f6212f438",
   "metadata": {},
   "outputs": [],
   "source": [
    "df['no_of_bath'] = df['bathrooms_text'].str.split(' ').str[0]"
   ]
  },
  {
   "cell_type": "code",
   "execution_count": 288,
   "id": "5693fa57-8fed-4c02-bf26-5439f6b37db5",
   "metadata": {},
   "outputs": [
    {
     "data": {
      "text/plain": [
       "array(['1', '1.5', '2.5', '2', '3', 'Shared', '3.5', '8.5', '4', '0', '5',\n",
       "       'Half-bath', 'Private', '6.5', '15.5', '8', '6', '7.5'],\n",
       "      dtype=object)"
      ]
     },
     "execution_count": 288,
     "metadata": {},
     "output_type": "execute_result"
    }
   ],
   "source": [
    "df['no_of_bath'].unique()"
   ]
  },
  {
   "cell_type": "code",
   "execution_count": 294,
   "id": "a16d10a8-46ea-4186-ac5d-4f9f151e3771",
   "metadata": {},
   "outputs": [],
   "source": [
    "df.no_of_bath = df.no_of_bath.replace(['Half-bath','Private','Shared'], [0.5,0.5,0.5])"
   ]
  },
  {
   "cell_type": "code",
   "execution_count": 295,
   "id": "29ee68a6-0054-400d-bddd-1b222a2f72b2",
   "metadata": {},
   "outputs": [
    {
     "data": {
      "text/plain": [
       "array(['1', '1.5', '2.5', '2', '3', 0.5, '3.5', '8.5', '4', '0', '5',\n",
       "       '6.5', '15.5', '8', '6', '7.5'], dtype=object)"
      ]
     },
     "execution_count": 295,
     "metadata": {},
     "output_type": "execute_result"
    }
   ],
   "source": [
    "df['no_of_bath'].unique()"
   ]
  },
  {
   "cell_type": "code",
   "execution_count": 321,
   "id": "8d2314de-fd7c-4fd4-88ce-fbea693ea252",
   "metadata": {},
   "outputs": [],
   "source": [
    "word_list = [\"shared\", \"Shared\",\".5\"]\n",
    "df['bath_type'] = df.apply(lambda row: any(word in row[\"bathrooms_text\"] for word in word_list), axis = 1)"
   ]
  },
  {
   "cell_type": "code",
   "execution_count": 322,
   "id": "1b3df5e5-8e71-4315-9f57-f6c0a900a901",
   "metadata": {},
   "outputs": [
    {
     "data": {
      "text/plain": [
       "0       False\n",
       "1       False\n",
       "2        True\n",
       "3        True\n",
       "4        True\n",
       "        ...  \n",
       "1738    False\n",
       "1739     True\n",
       "1740    False\n",
       "1741     True\n",
       "1742     True\n",
       "Name: bath_type, Length: 1740, dtype: bool"
      ]
     },
     "execution_count": 322,
     "metadata": {},
     "output_type": "execute_result"
    }
   ],
   "source": [
    "df['bath_type']"
   ]
  },
  {
   "cell_type": "code",
   "execution_count": 325,
   "id": "5a479e38-1e8c-47ae-b4b6-f0d4360f9b8c",
   "metadata": {},
   "outputs": [],
   "source": [
    "df.bath_type = df.bath_type.replace([True,False], ['Shared','Private'])"
   ]
  },
  {
   "cell_type": "code",
   "execution_count": 326,
   "id": "198c0b9d-6bc2-40c2-8049-e04db8be058d",
   "metadata": {},
   "outputs": [
    {
     "data": {
      "text/plain": [
       "0       Private\n",
       "1       Private\n",
       "2        Shared\n",
       "3        Shared\n",
       "4        Shared\n",
       "         ...   \n",
       "1738    Private\n",
       "1739     Shared\n",
       "1740    Private\n",
       "1741     Shared\n",
       "1742     Shared\n",
       "Name: bath_type, Length: 1740, dtype: object"
      ]
     },
     "execution_count": 326,
     "metadata": {},
     "output_type": "execute_result"
    }
   ],
   "source": [
    "df['bath_type']"
   ]
  },
  {
   "cell_type": "code",
   "execution_count": 327,
   "id": "3c3fde19-f9ff-41c8-a704-f7dbb79749f2",
   "metadata": {},
   "outputs": [],
   "source": [
    "#df.to_csv('cleaned_sorted.csv')"
   ]
  },
  {
   "cell_type": "code",
   "execution_count": 339,
   "id": "b26c3aff-ae7a-4a68-b5a4-080eb8d924ed",
   "metadata": {},
   "outputs": [
    {
     "data": {
      "text/plain": [
       "0       2010-09-14\n",
       "1       2010-09-14\n",
       "2       2010-09-14\n",
       "3       2010-09-14\n",
       "4       2011-05-14\n",
       "           ...    \n",
       "1738    2017-12-29\n",
       "1739    2015-10-11\n",
       "1740    2016-05-27\n",
       "1741    2020-11-30\n",
       "1742    2021-12-24\n",
       "Name: host_since, Length: 1740, dtype: object"
      ]
     },
     "execution_count": 339,
     "metadata": {},
     "output_type": "execute_result"
    }
   ],
   "source": [
    "df['host_since']"
   ]
  },
  {
   "cell_type": "markdown",
   "id": "f0fbebb8-240b-436d-a2e6-c9d6f880ac88",
   "metadata": {},
   "source": [
    "<font size=\"5\">Created a new column as host_since as the old host is trustworthy"
   ]
  },
  {
   "cell_type": "code",
   "execution_count": 359,
   "id": "38dcc3b0-bded-44ff-a93b-e428a594d818",
   "metadata": {},
   "outputs": [],
   "source": [
    "import pandas as pd\n",
    "from datetime import date\n",
    "df['host_since'] = pd.to_datetime(df['host_since'])"
   ]
  },
  {
   "cell_type": "code",
   "execution_count": 361,
   "id": "0b7517a8-a695-4bfc-8b46-33c2f9438cee",
   "metadata": {},
   "outputs": [
    {
     "data": {
      "text/plain": [
       "0      2010-09-14\n",
       "1      2010-09-14\n",
       "2      2010-09-14\n",
       "3      2010-09-14\n",
       "4      2011-05-14\n",
       "          ...    \n",
       "1738   2017-12-29\n",
       "1739   2015-10-11\n",
       "1740   2016-05-27\n",
       "1741   2020-11-30\n",
       "1742   2021-12-24\n",
       "Name: host_since, Length: 1740, dtype: datetime64[ns]"
      ]
     },
     "execution_count": 361,
     "metadata": {},
     "output_type": "execute_result"
    }
   ],
   "source": [
    "df['host_since']"
   ]
  },
  {
   "cell_type": "code",
   "execution_count": 363,
   "id": "35e2c2a6-eb56-47a9-93fd-2fd92ca8ce50",
   "metadata": {},
   "outputs": [
    {
     "data": {
      "text/plain": [
       "0       4247\n",
       "1       4247\n",
       "2       4247\n",
       "3       4247\n",
       "4       4005\n",
       "        ... \n",
       "1738    1584\n",
       "1739    2394\n",
       "1740    2165\n",
       "1741     517\n",
       "1742     128\n",
       "Name: host_since, Length: 1740, dtype: int64"
      ]
     },
     "execution_count": 363,
     "metadata": {},
     "output_type": "execute_result"
    }
   ],
   "source": [
    "basedate=pd.Timestamp('2022-05-01')\n",
    "host_for=abs(df['host_since']-basedate).dt.days\n",
    "host_for"
   ]
  },
  {
   "cell_type": "code",
   "execution_count": 364,
   "id": "85d1f56c-3cfc-4833-93f2-cac0545a6a99",
   "metadata": {},
   "outputs": [],
   "source": [
    "df['host_for']=host_for"
   ]
  },
  {
   "cell_type": "code",
   "execution_count": 365,
   "id": "9317ba71-8c83-41b3-a9e0-4d7719556001",
   "metadata": {},
   "outputs": [
    {
     "data": {
      "text/plain": [
       "0       4247\n",
       "1       4247\n",
       "2       4247\n",
       "3       4247\n",
       "4       4005\n",
       "        ... \n",
       "1738    1584\n",
       "1739    2394\n",
       "1740    2165\n",
       "1741     517\n",
       "1742     128\n",
       "Name: host_for, Length: 1740, dtype: int64"
      ]
     },
     "execution_count": 365,
     "metadata": {},
     "output_type": "execute_result"
    }
   ],
   "source": [
    "df['host_for']"
   ]
  },
  {
   "cell_type": "code",
   "execution_count": 371,
   "id": "3b2c4a2b-5d7f-47b0-ab45-408e76230c00",
   "metadata": {},
   "outputs": [],
   "source": [
    "df[\"host_country\"] = df[\"host_location\"].str.split().str[-1]"
   ]
  },
  {
   "cell_type": "code",
   "execution_count": 373,
   "id": "e0f8d9f0-9d7b-4dfe-a7de-5aa0157c563c",
   "metadata": {},
   "outputs": [
    {
     "data": {
      "text/plain": [
       "count        1740\n",
       "unique         32\n",
       "top       Belgium\n",
       "freq         1436\n",
       "Name: host_country, dtype: object"
      ]
     },
     "execution_count": 373,
     "metadata": {},
     "output_type": "execute_result"
    }
   ],
   "source": [
    "df[\"host_country\"].describe()"
   ]
  },
  {
   "cell_type": "code",
   "execution_count": 374,
   "id": "75497eff-fa3f-44de-be53-b5c33b443c01",
   "metadata": {},
   "outputs": [],
   "source": [
    "df.to_csv('cleaned_sorted.csv')"
   ]
  },
  {
   "cell_type": "code",
   "execution_count": null,
   "id": "7442cd47-e467-4d26-87ff-bffb14e50f20",
   "metadata": {},
   "outputs": [],
   "source": []
  }
 ],
 "metadata": {
  "kernelspec": {
   "display_name": "Python 3",
   "language": "python",
   "name": "python3"
  },
  "language_info": {
   "codemirror_mode": {
    "name": "ipython",
    "version": 3
   },
   "file_extension": ".py",
   "mimetype": "text/x-python",
   "name": "python",
   "nbconvert_exporter": "python",
   "pygments_lexer": "ipython3",
   "version": "3.8.8"
  }
 },
 "nbformat": 4,
 "nbformat_minor": 5
}
