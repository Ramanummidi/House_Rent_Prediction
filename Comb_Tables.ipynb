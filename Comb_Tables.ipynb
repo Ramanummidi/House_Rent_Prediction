{
 "cells": [
  {
   "cell_type": "markdown",
   "id": "b6db87fe-e510-4487-a514-cc3f3f5e6ac8",
   "metadata": {},
   "source": [
    "<font size=\"5\">Extracting the data from .db file(Data Base) and Combining tables</font>"
   ]
  },
  {
   "cell_type": "code",
   "execution_count": 2,
   "id": "ce4de32c-b79c-409c-9299-c9d912b2d85b",
   "metadata": {},
   "outputs": [
    {
     "data": {
      "text/plain": [
       "'D:\\\\IDMA\\\\Project2'"
      ]
     },
     "execution_count": 2,
     "metadata": {},
     "output_type": "execute_result"
    }
   ],
   "source": [
    "import os\n",
    "os.getcwd()"
   ]
  },
  {
   "cell_type": "code",
   "execution_count": 9,
   "id": "d5b50f32-877a-485f-b8d1-01b111eb6207",
   "metadata": {},
   "outputs": [],
   "source": [
    "import pandas as pd\n",
    "import matplotlib.pyplot as  plt\n",
    "import seaborn as sns"
   ]
  },
  {
   "cell_type": "markdown",
   "id": "0781ee23-ebd7-430f-89c9-66cd69f0e075",
   "metadata": {},
   "source": [
    "<font size=\"5\">Extracting tables from database"
   ]
  },
  {
   "cell_type": "markdown",
   "id": "47240237-b071-4353-9b56-af13f35e4b13",
   "metadata": {},
   "source": [
    "df_listings =pd.read_sql_table('listings','sqlite:///airbnb.db')\n",
    "df_reviews =pd.read_sql_table('reviews','sqlite:///airbnb.db')\n",
    "df_hosts =pd.read_sql_table('hosts','sqlite:///airbnb.db')\n",
    "df_calender =pd.read_sql_table('calendar','sqlite:///airbnb.db')"
   ]
  },
  {
   "cell_type": "code",
   "execution_count": 24,
   "id": "4839e843-f503-40b8-8b95-019024f85ba7",
   "metadata": {},
   "outputs": [
    {
     "data": {
      "text/html": [
       "<div>\n",
       "<style scoped>\n",
       "    .dataframe tbody tr th:only-of-type {\n",
       "        vertical-align: middle;\n",
       "    }\n",
       "\n",
       "    .dataframe tbody tr th {\n",
       "        vertical-align: top;\n",
       "    }\n",
       "\n",
       "    .dataframe thead th {\n",
       "        text-align: right;\n",
       "    }\n",
       "</style>\n",
       "<table border=\"1\" class=\"dataframe\">\n",
       "  <thead>\n",
       "    <tr style=\"text-align: right;\">\n",
       "      <th></th>\n",
       "      <th>listing_id</th>\n",
       "      <th>listing_url</th>\n",
       "      <th>name</th>\n",
       "      <th>description</th>\n",
       "      <th>latitude</th>\n",
       "      <th>longitude</th>\n",
       "      <th>property_type</th>\n",
       "      <th>room_type</th>\n",
       "      <th>accomodates</th>\n",
       "      <th>bathrooms_text</th>\n",
       "      <th>bedrooms</th>\n",
       "      <th>beds</th>\n",
       "      <th>amenities</th>\n",
       "      <th>host_id</th>\n",
       "    </tr>\n",
       "  </thead>\n",
       "  <tbody>\n",
       "    <tr>\n",
       "      <th>0</th>\n",
       "      <td>50904</td>\n",
       "      <td>https://www.airbnb.com/rooms/50904</td>\n",
       "      <td>aplace/antwerp: cosy suite - fashion district</td>\n",
       "      <td>Decorated in a vintage style combined with a f...</td>\n",
       "      <td>51.218575</td>\n",
       "      <td>4.398631</td>\n",
       "      <td>Room in boutique hotel</td>\n",
       "      <td>Hotel room</td>\n",
       "      <td>2</td>\n",
       "      <td>1 private bath</td>\n",
       "      <td>1.0</td>\n",
       "      <td>1.0</td>\n",
       "      <td>[\"Kitchen\", \"Smoke alarm\", \"Hair dryer\", \"Keyp...</td>\n",
       "      <td>234077</td>\n",
       "    </tr>\n",
       "    <tr>\n",
       "      <th>1</th>\n",
       "      <td>116134</td>\n",
       "      <td>https://www.airbnb.com/rooms/116134</td>\n",
       "      <td>Spacious apartment nearby Mas</td>\n",
       "      <td>Enjoy your stay at our 4 person apartment in t...</td>\n",
       "      <td>51.230510</td>\n",
       "      <td>4.405930</td>\n",
       "      <td>Entire rental unit</td>\n",
       "      <td>Entire home/apt</td>\n",
       "      <td>4</td>\n",
       "      <td>2.5 baths</td>\n",
       "      <td>2.0</td>\n",
       "      <td>2.0</td>\n",
       "      <td>[\"Refrigerator\", \"Elevator\", \"Paid street park...</td>\n",
       "      <td>586942</td>\n",
       "    </tr>\n",
       "  </tbody>\n",
       "</table>\n",
       "</div>"
      ],
      "text/plain": [
       "   listing_id                          listing_url  \\\n",
       "0       50904   https://www.airbnb.com/rooms/50904   \n",
       "1      116134  https://www.airbnb.com/rooms/116134   \n",
       "\n",
       "                                            name  \\\n",
       "0  aplace/antwerp: cosy suite - fashion district   \n",
       "1                  Spacious apartment nearby Mas   \n",
       "\n",
       "                                         description   latitude  longitude  \\\n",
       "0  Decorated in a vintage style combined with a f...  51.218575   4.398631   \n",
       "1  Enjoy your stay at our 4 person apartment in t...  51.230510   4.405930   \n",
       "\n",
       "            property_type        room_type  accomodates  bathrooms_text  \\\n",
       "0  Room in boutique hotel       Hotel room            2  1 private bath   \n",
       "1      Entire rental unit  Entire home/apt            4       2.5 baths   \n",
       "\n",
       "   bedrooms  beds                                          amenities  host_id  \n",
       "0       1.0   1.0  [\"Kitchen\", \"Smoke alarm\", \"Hair dryer\", \"Keyp...   234077  \n",
       "1       2.0   2.0  [\"Refrigerator\", \"Elevator\", \"Paid street park...   586942  "
      ]
     },
     "execution_count": 24,
     "metadata": {},
     "output_type": "execute_result"
    }
   ],
   "source": [
    "df_listings.head(2)"
   ]
  },
  {
   "cell_type": "code",
   "execution_count": 25,
   "id": "8da26eee-bd5a-4a08-b927-6ba050627ff0",
   "metadata": {},
   "outputs": [
    {
     "data": {
      "text/plain": [
       "(1749, 14)"
      ]
     },
     "execution_count": 25,
     "metadata": {},
     "output_type": "execute_result"
    }
   ],
   "source": [
    "df_listings.shape"
   ]
  },
  {
   "cell_type": "code",
   "execution_count": 28,
   "id": "22068cff-15e5-4f80-af72-91e4d3fb35c5",
   "metadata": {},
   "outputs": [
    {
     "data": {
      "text/plain": [
       "<AxesSubplot:>"
      ]
     },
     "execution_count": 28,
     "metadata": {},
     "output_type": "execute_result"
    },
    {
     "data": {
      "image/png": "[encoded data removed]",
      "text/plain": [
       "<Figure size 432x288 with 1 Axes>"
      ]
     },
     "metadata": {
      "needs_background": "light"
     },
     "output_type": "display_data"
    }
   ],
   "source": [
    "df_listings.isna().sum().plot(kind='bar')"
   ]
  },
  {
   "cell_type": "code",
   "execution_count": 30,
   "id": "fca46f9c-17d5-49f0-a8e4-8f47496a70ea",
   "metadata": {},
   "outputs": [
    {
     "data": {
      "text/html": [
       "<div>\n",
       "<style scoped>\n",
       "    .dataframe tbody tr th:only-of-type {\n",
       "        vertical-align: middle;\n",
       "    }\n",
       "\n",
       "    .dataframe tbody tr th {\n",
       "        vertical-align: top;\n",
       "    }\n",
       "\n",
       "    .dataframe thead th {\n",
       "        text-align: right;\n",
       "    }\n",
       "</style>\n",
       "<table border=\"1\" class=\"dataframe\">\n",
       "  <thead>\n",
       "    <tr style=\"text-align: right;\">\n",
       "      <th></th>\n",
       "      <th>review_id</th>\n",
       "      <th>listing_id</th>\n",
       "      <th>date</th>\n",
       "      <th>reviewer_id</th>\n",
       "      <th>reviewer_name</th>\n",
       "      <th>comments</th>\n",
       "    </tr>\n",
       "  </thead>\n",
       "  <tbody>\n",
       "    <tr>\n",
       "      <th>0</th>\n",
       "      <td>1</td>\n",
       "      <td>50904</td>\n",
       "      <td>2015-05-06</td>\n",
       "      <td>19482395</td>\n",
       "      <td>Jihae</td>\n",
       "      <td>Karin’s “Aplace” is absolutely beautiful and c...</td>\n",
       "    </tr>\n",
       "    <tr>\n",
       "      <th>1</th>\n",
       "      <td>2</td>\n",
       "      <td>50904</td>\n",
       "      <td>2021-10-10</td>\n",
       "      <td>333559</td>\n",
       "      <td>Emilie</td>\n",
       "      <td>Karin is a wonderful host, she was really help...</td>\n",
       "    </tr>\n",
       "    <tr>\n",
       "      <th>2</th>\n",
       "      <td>3</td>\n",
       "      <td>116134</td>\n",
       "      <td>2012-03-05</td>\n",
       "      <td>928644</td>\n",
       "      <td>Aurélien</td>\n",
       "      <td>Amazing flat, really close from the MAS Musem,...</td>\n",
       "    </tr>\n",
       "    <tr>\n",
       "      <th>3</th>\n",
       "      <td>4</td>\n",
       "      <td>116134</td>\n",
       "      <td>2012-05-25</td>\n",
       "      <td>231288</td>\n",
       "      <td>Gail</td>\n",
       "      <td>This is a well equipped, very comfortable apar...</td>\n",
       "    </tr>\n",
       "    <tr>\n",
       "      <th>4</th>\n",
       "      <td>5</td>\n",
       "      <td>116134</td>\n",
       "      <td>2013-09-03</td>\n",
       "      <td>7984251</td>\n",
       "      <td>Marcel</td>\n",
       "      <td>This is a very nice appartement. We really lik...</td>\n",
       "    </tr>\n",
       "  </tbody>\n",
       "</table>\n",
       "</div>"
      ],
      "text/plain": [
       "   review_id  listing_id       date  reviewer_id reviewer_name  \\\n",
       "0          1       50904 2015-05-06     19482395         Jihae   \n",
       "1          2       50904 2021-10-10       333559        Emilie   \n",
       "2          3      116134 2012-03-05       928644      Aurélien   \n",
       "3          4      116134 2012-05-25       231288          Gail   \n",
       "4          5      116134 2013-09-03      7984251        Marcel   \n",
       "\n",
       "                                            comments  \n",
       "0  Karin’s “Aplace” is absolutely beautiful and c...  \n",
       "1  Karin is a wonderful host, she was really help...  \n",
       "2  Amazing flat, really close from the MAS Musem,...  \n",
       "3  This is a well equipped, very comfortable apar...  \n",
       "4  This is a very nice appartement. We really lik...  "
      ]
     },
     "execution_count": 30,
     "metadata": {},
     "output_type": "execute_result"
    }
   ],
   "source": [
    "df_reviews.head()"
   ]
  },
  {
   "cell_type": "code",
   "execution_count": 32,
   "id": "67440d36-75a3-4f75-8246-f33f82cbcb39",
   "metadata": {},
   "outputs": [
    {
     "data": {
      "text/plain": [
       "(62987, 6)"
      ]
     },
     "execution_count": 32,
     "metadata": {},
     "output_type": "execute_result"
    }
   ],
   "source": [
    "df_reviews.shape"
   ]
  },
  {
   "cell_type": "code",
   "execution_count": 35,
   "id": "4cf4427d-eb33-41ca-be27-89f86b7577ae",
   "metadata": {},
   "outputs": [
    {
     "data": {
      "text/html": [
       "<div>\n",
       "<style scoped>\n",
       "    .dataframe tbody tr th:only-of-type {\n",
       "        vertical-align: middle;\n",
       "    }\n",
       "\n",
       "    .dataframe tbody tr th {\n",
       "        vertical-align: top;\n",
       "    }\n",
       "\n",
       "    .dataframe thead th {\n",
       "        text-align: right;\n",
       "    }\n",
       "</style>\n",
       "<table border=\"1\" class=\"dataframe\">\n",
       "  <thead>\n",
       "    <tr style=\"text-align: right;\">\n",
       "      <th></th>\n",
       "      <th>calender_id</th>\n",
       "      <th>listing_id</th>\n",
       "      <th>date</th>\n",
       "      <th>available</th>\n",
       "      <th>price</th>\n",
       "      <th>adjusted_price</th>\n",
       "      <th>minimum_nights</th>\n",
       "      <th>maximum_nights</th>\n",
       "    </tr>\n",
       "  </thead>\n",
       "  <tbody>\n",
       "    <tr>\n",
       "      <th>0</th>\n",
       "      <td>1</td>\n",
       "      <td>40334325</td>\n",
       "      <td>2022-08-03</td>\n",
       "      <td>False</td>\n",
       "      <td>56.0</td>\n",
       "      <td>56.0</td>\n",
       "      <td>3</td>\n",
       "      <td>5</td>\n",
       "    </tr>\n",
       "    <tr>\n",
       "      <th>1</th>\n",
       "      <td>2</td>\n",
       "      <td>22742449</td>\n",
       "      <td>2022-11-13</td>\n",
       "      <td>True</td>\n",
       "      <td>95.0</td>\n",
       "      <td>95.0</td>\n",
       "      <td>2</td>\n",
       "      <td>99</td>\n",
       "    </tr>\n",
       "  </tbody>\n",
       "</table>\n",
       "</div>"
      ],
      "text/plain": [
       "   calender_id  listing_id       date  available  price  adjusted_price  \\\n",
       "0            1    40334325 2022-08-03      False   56.0            56.0   \n",
       "1            2    22742449 2022-11-13       True   95.0            95.0   \n",
       "\n",
       "   minimum_nights  maximum_nights  \n",
       "0               3               5  \n",
       "1               2              99  "
      ]
     },
     "execution_count": 35,
     "metadata": {},
     "output_type": "execute_result"
    }
   ],
   "source": [
    "df_calender.head(2)"
   ]
  },
  {
   "cell_type": "code",
   "execution_count": 34,
   "id": "5d7e723d-7de2-4b80-af7d-1916fe022e08",
   "metadata": {},
   "outputs": [
    {
     "data": {
      "text/plain": [
       "1749"
      ]
     },
     "execution_count": 34,
     "metadata": {},
     "output_type": "execute_result"
    }
   ],
   "source": [
    "df_calender['listing_id'].nunique()"
   ]
  },
  {
   "cell_type": "markdown",
   "id": "5ba053bc-598e-4890-89a0-07a5d7474004",
   "metadata": {},
   "source": [
    "<font size=\"5\">Fetching latest prices for better prediction"
   ]
  },
  {
   "cell_type": "code",
   "execution_count": 41,
   "id": "c398b643-b333-4a18-b93e-d1ea1385151b",
   "metadata": {},
   "outputs": [
    {
     "data": {
      "text/html": [
       "<div>\n",
       "<style scoped>\n",
       "    .dataframe tbody tr th:only-of-type {\n",
       "        vertical-align: middle;\n",
       "    }\n",
       "\n",
       "    .dataframe tbody tr th {\n",
       "        vertical-align: top;\n",
       "    }\n",
       "\n",
       "    .dataframe thead th {\n",
       "        text-align: right;\n",
       "    }\n",
       "</style>\n",
       "<table border=\"1\" class=\"dataframe\">\n",
       "  <thead>\n",
       "    <tr style=\"text-align: right;\">\n",
       "      <th></th>\n",
       "      <th>calender_id</th>\n",
       "      <th>listing_id</th>\n",
       "      <th>date</th>\n",
       "      <th>available</th>\n",
       "      <th>price</th>\n",
       "      <th>adjusted_price</th>\n",
       "      <th>minimum_nights</th>\n",
       "      <th>maximum_nights</th>\n",
       "    </tr>\n",
       "  </thead>\n",
       "  <tbody>\n",
       "    <tr>\n",
       "      <th>277844</th>\n",
       "      <td>277845</td>\n",
       "      <td>33414044</td>\n",
       "      <td>2022-12-05</td>\n",
       "      <td>True</td>\n",
       "      <td>116.0</td>\n",
       "      <td>116.0</td>\n",
       "      <td>2</td>\n",
       "      <td>1125</td>\n",
       "    </tr>\n",
       "    <tr>\n",
       "      <th>21839</th>\n",
       "      <td>21840</td>\n",
       "      <td>33192413</td>\n",
       "      <td>2022-12-06</td>\n",
       "      <td>False</td>\n",
       "      <td>34.0</td>\n",
       "      <td>34.0</td>\n",
       "      <td>1</td>\n",
       "      <td>1125</td>\n",
       "    </tr>\n",
       "    <tr>\n",
       "      <th>312912</th>\n",
       "      <td>312913</td>\n",
       "      <td>33192413</td>\n",
       "      <td>2022-12-07</td>\n",
       "      <td>False</td>\n",
       "      <td>34.0</td>\n",
       "      <td>34.0</td>\n",
       "      <td>1</td>\n",
       "      <td>1125</td>\n",
       "    </tr>\n",
       "    <tr>\n",
       "      <th>217570</th>\n",
       "      <td>217571</td>\n",
       "      <td>33414044</td>\n",
       "      <td>2022-12-07</td>\n",
       "      <td>True</td>\n",
       "      <td>116.0</td>\n",
       "      <td>116.0</td>\n",
       "      <td>2</td>\n",
       "      <td>1125</td>\n",
       "    </tr>\n",
       "    <tr>\n",
       "      <th>171392</th>\n",
       "      <td>171393</td>\n",
       "      <td>33716554</td>\n",
       "      <td>2022-12-08</td>\n",
       "      <td>False</td>\n",
       "      <td>75.0</td>\n",
       "      <td>75.0</td>\n",
       "      <td>2</td>\n",
       "      <td>1125</td>\n",
       "    </tr>\n",
       "    <tr>\n",
       "      <th>...</th>\n",
       "      <td>...</td>\n",
       "      <td>...</td>\n",
       "      <td>...</td>\n",
       "      <td>...</td>\n",
       "      <td>...</td>\n",
       "      <td>...</td>\n",
       "      <td>...</td>\n",
       "      <td>...</td>\n",
       "    </tr>\n",
       "    <tr>\n",
       "      <th>196873</th>\n",
       "      <td>196874</td>\n",
       "      <td>38547626</td>\n",
       "      <td>2022-12-25</td>\n",
       "      <td>False</td>\n",
       "      <td>68.0</td>\n",
       "      <td>68.0</td>\n",
       "      <td>2</td>\n",
       "      <td>1125</td>\n",
       "    </tr>\n",
       "    <tr>\n",
       "      <th>115452</th>\n",
       "      <td>115453</td>\n",
       "      <td>12746696</td>\n",
       "      <td>2022-12-25</td>\n",
       "      <td>False</td>\n",
       "      <td>96.0</td>\n",
       "      <td>96.0</td>\n",
       "      <td>2</td>\n",
       "      <td>1125</td>\n",
       "    </tr>\n",
       "    <tr>\n",
       "      <th>253381</th>\n",
       "      <td>253382</td>\n",
       "      <td>51123661</td>\n",
       "      <td>2022-12-25</td>\n",
       "      <td>True</td>\n",
       "      <td>175.0</td>\n",
       "      <td>175.0</td>\n",
       "      <td>1</td>\n",
       "      <td>365</td>\n",
       "    </tr>\n",
       "    <tr>\n",
       "      <th>253370</th>\n",
       "      <td>253371</td>\n",
       "      <td>40628338</td>\n",
       "      <td>2022-12-25</td>\n",
       "      <td>False</td>\n",
       "      <td>80.0</td>\n",
       "      <td>80.0</td>\n",
       "      <td>1</td>\n",
       "      <td>1125</td>\n",
       "    </tr>\n",
       "    <tr>\n",
       "      <th>314793</th>\n",
       "      <td>314794</td>\n",
       "      <td>53913084</td>\n",
       "      <td>2022-12-25</td>\n",
       "      <td>True</td>\n",
       "      <td>358.0</td>\n",
       "      <td>358.0</td>\n",
       "      <td>7</td>\n",
       "      <td>28</td>\n",
       "    </tr>\n",
       "  </tbody>\n",
       "</table>\n",
       "<p>5247 rows × 8 columns</p>\n",
       "</div>"
      ],
      "text/plain": [
       "        calender_id  listing_id       date  available  price  adjusted_price  \\\n",
       "277844       277845    33414044 2022-12-05       True  116.0           116.0   \n",
       "21839         21840    33192413 2022-12-06      False   34.0            34.0   \n",
       "312912       312913    33192413 2022-12-07      False   34.0            34.0   \n",
       "217570       217571    33414044 2022-12-07       True  116.0           116.0   \n",
       "171392       171393    33716554 2022-12-08      False   75.0            75.0   \n",
       "...             ...         ...        ...        ...    ...             ...   \n",
       "196873       196874    38547626 2022-12-25      False   68.0            68.0   \n",
       "115452       115453    12746696 2022-12-25      False   96.0            96.0   \n",
       "253381       253382    51123661 2022-12-25       True  175.0           175.0   \n",
       "253370       253371    40628338 2022-12-25      False   80.0            80.0   \n",
       "314793       314794    53913084 2022-12-25       True  358.0           358.0   \n",
       "\n",
       "        minimum_nights  maximum_nights  \n",
       "277844               2            1125  \n",
       "21839                1            1125  \n",
       "312912               1            1125  \n",
       "217570               2            1125  \n",
       "171392               2            1125  \n",
       "...                ...             ...  \n",
       "196873               2            1125  \n",
       "115452               2            1125  \n",
       "253381               1             365  \n",
       "253370               1            1125  \n",
       "314793               7              28  \n",
       "\n",
       "[5247 rows x 8 columns]"
      ]
     },
     "execution_count": 41,
     "metadata": {},
     "output_type": "execute_result"
    }
   ],
   "source": [
    "df_calender.sort_values('date').groupby('listing_id').tail(3)"
   ]
  },
  {
   "cell_type": "markdown",
   "id": "e40b2a57-a061-4ab7-9fc5-bfdcd120a129",
   "metadata": {},
   "source": [
    "<font size=\"5\">Creating mean of the latest 3 values in by sorting calender"
   ]
  },
  {
   "cell_type": "code",
   "execution_count": 49,
   "id": "fc346bb7-9b37-40a3-895a-e74c960c242c",
   "metadata": {},
   "outputs": [],
   "source": [
    "df_calender_tail=df_calender.sort_values('date').groupby('listing_id').tail(3)"
   ]
  },
  {
   "cell_type": "code",
   "execution_count": 51,
   "id": "b1bfb39e-1c3b-4ce3-bb7a-74c81eb6a6a5",
   "metadata": {},
   "outputs": [],
   "source": [
    "df_calender_mean = df_calender_tail.groupby('listing_id').mean()"
   ]
  },
  {
   "cell_type": "code",
   "execution_count": 52,
   "id": "6012b44c-f75a-4d62-bb91-448642efd8f1",
   "metadata": {},
   "outputs": [
    {
     "data": {
      "text/html": [
       "<div>\n",
       "<style scoped>\n",
       "    .dataframe tbody tr th:only-of-type {\n",
       "        vertical-align: middle;\n",
       "    }\n",
       "\n",
       "    .dataframe tbody tr th {\n",
       "        vertical-align: top;\n",
       "    }\n",
       "\n",
       "    .dataframe thead th {\n",
       "        text-align: right;\n",
       "    }\n",
       "</style>\n",
       "<table border=\"1\" class=\"dataframe\">\n",
       "  <thead>\n",
       "    <tr style=\"text-align: right;\">\n",
       "      <th></th>\n",
       "      <th>calender_id</th>\n",
       "      <th>available</th>\n",
       "      <th>price</th>\n",
       "      <th>adjusted_price</th>\n",
       "      <th>minimum_nights</th>\n",
       "      <th>maximum_nights</th>\n",
       "    </tr>\n",
       "    <tr>\n",
       "      <th>listing_id</th>\n",
       "      <th></th>\n",
       "      <th></th>\n",
       "      <th></th>\n",
       "      <th></th>\n",
       "      <th></th>\n",
       "      <th></th>\n",
       "    </tr>\n",
       "  </thead>\n",
       "  <tbody>\n",
       "    <tr>\n",
       "      <th>50904</th>\n",
       "      <td>166029.333333</td>\n",
       "      <td>0.0</td>\n",
       "      <td>166.666667</td>\n",
       "      <td>158.666667</td>\n",
       "      <td>1.0</td>\n",
       "      <td>60.0</td>\n",
       "    </tr>\n",
       "    <tr>\n",
       "      <th>116134</th>\n",
       "      <td>173487.666667</td>\n",
       "      <td>1.0</td>\n",
       "      <td>150.000000</td>\n",
       "      <td>150.000000</td>\n",
       "      <td>2.0</td>\n",
       "      <td>1125.0</td>\n",
       "    </tr>\n",
       "    <tr>\n",
       "      <th>218916</th>\n",
       "      <td>163471.333333</td>\n",
       "      <td>0.0</td>\n",
       "      <td>85.000000</td>\n",
       "      <td>85.000000</td>\n",
       "      <td>1.0</td>\n",
       "      <td>50.0</td>\n",
       "    </tr>\n",
       "    <tr>\n",
       "      <th>224333</th>\n",
       "      <td>193003.333333</td>\n",
       "      <td>1.0</td>\n",
       "      <td>16.000000</td>\n",
       "      <td>16.000000</td>\n",
       "      <td>14.0</td>\n",
       "      <td>365.0</td>\n",
       "    </tr>\n",
       "    <tr>\n",
       "      <th>224682</th>\n",
       "      <td>111238.333333</td>\n",
       "      <td>1.0</td>\n",
       "      <td>85.000000</td>\n",
       "      <td>85.000000</td>\n",
       "      <td>2.0</td>\n",
       "      <td>30.0</td>\n",
       "    </tr>\n",
       "    <tr>\n",
       "      <th>...</th>\n",
       "      <td>...</td>\n",
       "      <td>...</td>\n",
       "      <td>...</td>\n",
       "      <td>...</td>\n",
       "      <td>...</td>\n",
       "      <td>...</td>\n",
       "    </tr>\n",
       "    <tr>\n",
       "      <th>53916524</th>\n",
       "      <td>65968.000000</td>\n",
       "      <td>1.0</td>\n",
       "      <td>88.000000</td>\n",
       "      <td>88.000000</td>\n",
       "      <td>3.0</td>\n",
       "      <td>365.0</td>\n",
       "    </tr>\n",
       "    <tr>\n",
       "      <th>53928545</th>\n",
       "      <td>120818.666667</td>\n",
       "      <td>1.0</td>\n",
       "      <td>49.000000</td>\n",
       "      <td>49.000000</td>\n",
       "      <td>20.0</td>\n",
       "      <td>1125.0</td>\n",
       "    </tr>\n",
       "    <tr>\n",
       "      <th>53929354</th>\n",
       "      <td>163447.666667</td>\n",
       "      <td>1.0</td>\n",
       "      <td>90.000000</td>\n",
       "      <td>90.000000</td>\n",
       "      <td>1.0</td>\n",
       "      <td>365.0</td>\n",
       "    </tr>\n",
       "    <tr>\n",
       "      <th>53949105</th>\n",
       "      <td>191385.000000</td>\n",
       "      <td>1.0</td>\n",
       "      <td>990.000000</td>\n",
       "      <td>990.000000</td>\n",
       "      <td>2.0</td>\n",
       "      <td>1125.0</td>\n",
       "    </tr>\n",
       "    <tr>\n",
       "      <th>53983318</th>\n",
       "      <td>156374.333333</td>\n",
       "      <td>1.0</td>\n",
       "      <td>150.000000</td>\n",
       "      <td>150.000000</td>\n",
       "      <td>3.0</td>\n",
       "      <td>365.0</td>\n",
       "    </tr>\n",
       "  </tbody>\n",
       "</table>\n",
       "<p>1749 rows × 6 columns</p>\n",
       "</div>"
      ],
      "text/plain": [
       "              calender_id  available       price  adjusted_price  \\\n",
       "listing_id                                                         \n",
       "50904       166029.333333        0.0  166.666667      158.666667   \n",
       "116134      173487.666667        1.0  150.000000      150.000000   \n",
       "218916      163471.333333        0.0   85.000000       85.000000   \n",
       "224333      193003.333333        1.0   16.000000       16.000000   \n",
       "224682      111238.333333        1.0   85.000000       85.000000   \n",
       "...                   ...        ...         ...             ...   \n",
       "53916524     65968.000000        1.0   88.000000       88.000000   \n",
       "53928545    120818.666667        1.0   49.000000       49.000000   \n",
       "53929354    163447.666667        1.0   90.000000       90.000000   \n",
       "53949105    191385.000000        1.0  990.000000      990.000000   \n",
       "53983318    156374.333333        1.0  150.000000      150.000000   \n",
       "\n",
       "            minimum_nights  maximum_nights  \n",
       "listing_id                                  \n",
       "50904                  1.0            60.0  \n",
       "116134                 2.0          1125.0  \n",
       "218916                 1.0            50.0  \n",
       "224333                14.0           365.0  \n",
       "224682                 2.0            30.0  \n",
       "...                    ...             ...  \n",
       "53916524               3.0           365.0  \n",
       "53928545              20.0          1125.0  \n",
       "53929354               1.0           365.0  \n",
       "53949105               2.0          1125.0  \n",
       "53983318               3.0           365.0  \n",
       "\n",
       "[1749 rows x 6 columns]"
      ]
     },
     "execution_count": 52,
     "metadata": {},
     "output_type": "execute_result"
    }
   ],
   "source": [
    "df_calender_mean"
   ]
  },
  {
   "cell_type": "code",
   "execution_count": 54,
   "id": "07488b3e-a389-4ae2-aab1-5bf4955ccd1c",
   "metadata": {},
   "outputs": [
    {
     "data": {
      "text/plain": [
       "(1749, 6)"
      ]
     },
     "execution_count": 54,
     "metadata": {},
     "output_type": "execute_result"
    }
   ],
   "source": [
    "df_calender_mean.shape"
   ]
  },
  {
   "cell_type": "code",
   "execution_count": 92,
   "id": "5d72112a-e7a3-40ea-a02a-cf0888b57f22",
   "metadata": {},
   "outputs": [
    {
     "data": {
      "text/html": [
       "<div>\n",
       "<style scoped>\n",
       "    .dataframe tbody tr th:only-of-type {\n",
       "        vertical-align: middle;\n",
       "    }\n",
       "\n",
       "    .dataframe tbody tr th {\n",
       "        vertical-align: top;\n",
       "    }\n",
       "\n",
       "    .dataframe thead th {\n",
       "        text-align: right;\n",
       "    }\n",
       "</style>\n",
       "<table border=\"1\" class=\"dataframe\">\n",
       "  <thead>\n",
       "    <tr style=\"text-align: right;\">\n",
       "      <th></th>\n",
       "      <th>index</th>\n",
       "      <th>listing_id</th>\n",
       "      <th>calender_id</th>\n",
       "      <th>available</th>\n",
       "      <th>price</th>\n",
       "      <th>adjusted_price</th>\n",
       "      <th>minimum_nights</th>\n",
       "      <th>maximum_nights</th>\n",
       "    </tr>\n",
       "  </thead>\n",
       "  <tbody>\n",
       "    <tr>\n",
       "      <th>0</th>\n",
       "      <td>0</td>\n",
       "      <td>50904</td>\n",
       "      <td>166029.333333</td>\n",
       "      <td>0.0</td>\n",
       "      <td>166.666667</td>\n",
       "      <td>158.666667</td>\n",
       "      <td>1.0</td>\n",
       "      <td>60.0</td>\n",
       "    </tr>\n",
       "    <tr>\n",
       "      <th>1</th>\n",
       "      <td>1</td>\n",
       "      <td>116134</td>\n",
       "      <td>173487.666667</td>\n",
       "      <td>1.0</td>\n",
       "      <td>150.000000</td>\n",
       "      <td>150.000000</td>\n",
       "      <td>2.0</td>\n",
       "      <td>1125.0</td>\n",
       "    </tr>\n",
       "    <tr>\n",
       "      <th>2</th>\n",
       "      <td>2</td>\n",
       "      <td>218916</td>\n",
       "      <td>163471.333333</td>\n",
       "      <td>0.0</td>\n",
       "      <td>85.000000</td>\n",
       "      <td>85.000000</td>\n",
       "      <td>1.0</td>\n",
       "      <td>50.0</td>\n",
       "    </tr>\n",
       "    <tr>\n",
       "      <th>3</th>\n",
       "      <td>3</td>\n",
       "      <td>224333</td>\n",
       "      <td>193003.333333</td>\n",
       "      <td>1.0</td>\n",
       "      <td>16.000000</td>\n",
       "      <td>16.000000</td>\n",
       "      <td>14.0</td>\n",
       "      <td>365.0</td>\n",
       "    </tr>\n",
       "    <tr>\n",
       "      <th>4</th>\n",
       "      <td>4</td>\n",
       "      <td>224682</td>\n",
       "      <td>111238.333333</td>\n",
       "      <td>1.0</td>\n",
       "      <td>85.000000</td>\n",
       "      <td>85.000000</td>\n",
       "      <td>2.0</td>\n",
       "      <td>30.0</td>\n",
       "    </tr>\n",
       "    <tr>\n",
       "      <th>...</th>\n",
       "      <td>...</td>\n",
       "      <td>...</td>\n",
       "      <td>...</td>\n",
       "      <td>...</td>\n",
       "      <td>...</td>\n",
       "      <td>...</td>\n",
       "      <td>...</td>\n",
       "      <td>...</td>\n",
       "    </tr>\n",
       "    <tr>\n",
       "      <th>1744</th>\n",
       "      <td>1744</td>\n",
       "      <td>53916524</td>\n",
       "      <td>65968.000000</td>\n",
       "      <td>1.0</td>\n",
       "      <td>88.000000</td>\n",
       "      <td>88.000000</td>\n",
       "      <td>3.0</td>\n",
       "      <td>365.0</td>\n",
       "    </tr>\n",
       "    <tr>\n",
       "      <th>1745</th>\n",
       "      <td>1745</td>\n",
       "      <td>53928545</td>\n",
       "      <td>120818.666667</td>\n",
       "      <td>1.0</td>\n",
       "      <td>49.000000</td>\n",
       "      <td>49.000000</td>\n",
       "      <td>20.0</td>\n",
       "      <td>1125.0</td>\n",
       "    </tr>\n",
       "    <tr>\n",
       "      <th>1746</th>\n",
       "      <td>1746</td>\n",
       "      <td>53929354</td>\n",
       "      <td>163447.666667</td>\n",
       "      <td>1.0</td>\n",
       "      <td>90.000000</td>\n",
       "      <td>90.000000</td>\n",
       "      <td>1.0</td>\n",
       "      <td>365.0</td>\n",
       "    </tr>\n",
       "    <tr>\n",
       "      <th>1747</th>\n",
       "      <td>1747</td>\n",
       "      <td>53949105</td>\n",
       "      <td>191385.000000</td>\n",
       "      <td>1.0</td>\n",
       "      <td>990.000000</td>\n",
       "      <td>990.000000</td>\n",
       "      <td>2.0</td>\n",
       "      <td>1125.0</td>\n",
       "    </tr>\n",
       "    <tr>\n",
       "      <th>1748</th>\n",
       "      <td>1748</td>\n",
       "      <td>53983318</td>\n",
       "      <td>156374.333333</td>\n",
       "      <td>1.0</td>\n",
       "      <td>150.000000</td>\n",
       "      <td>150.000000</td>\n",
       "      <td>3.0</td>\n",
       "      <td>365.0</td>\n",
       "    </tr>\n",
       "  </tbody>\n",
       "</table>\n",
       "<p>1749 rows × 8 columns</p>\n",
       "</div>"
      ],
      "text/plain": [
       "      index  listing_id    calender_id  available       price  adjusted_price  \\\n",
       "0         0       50904  166029.333333        0.0  166.666667      158.666667   \n",
       "1         1      116134  173487.666667        1.0  150.000000      150.000000   \n",
       "2         2      218916  163471.333333        0.0   85.000000       85.000000   \n",
       "3         3      224333  193003.333333        1.0   16.000000       16.000000   \n",
       "4         4      224682  111238.333333        1.0   85.000000       85.000000   \n",
       "...     ...         ...            ...        ...         ...             ...   \n",
       "1744   1744    53916524   65968.000000        1.0   88.000000       88.000000   \n",
       "1745   1745    53928545  120818.666667        1.0   49.000000       49.000000   \n",
       "1746   1746    53929354  163447.666667        1.0   90.000000       90.000000   \n",
       "1747   1747    53949105  191385.000000        1.0  990.000000      990.000000   \n",
       "1748   1748    53983318  156374.333333        1.0  150.000000      150.000000   \n",
       "\n",
       "      minimum_nights  maximum_nights  \n",
       "0                1.0            60.0  \n",
       "1                2.0          1125.0  \n",
       "2                1.0            50.0  \n",
       "3               14.0           365.0  \n",
       "4                2.0            30.0  \n",
       "...              ...             ...  \n",
       "1744             3.0           365.0  \n",
       "1745            20.0          1125.0  \n",
       "1746             1.0           365.0  \n",
       "1747             2.0          1125.0  \n",
       "1748             3.0           365.0  \n",
       "\n",
       "[1749 rows x 8 columns]"
      ]
     },
     "execution_count": 92,
     "metadata": {},
     "output_type": "execute_result"
    }
   ],
   "source": [
    "df_calender_mean.reset_index(level=0, inplace=True)\n",
    "df_calender_mean"
   ]
  },
  {
   "cell_type": "code",
   "execution_count": 56,
   "id": "9df3ba15-9251-43d5-9997-a4337c52631f",
   "metadata": {},
   "outputs": [],
   "source": [
    "#df_calender_mean.drop(['index'],axis=1)"
   ]
  },
  {
   "cell_type": "code",
   "execution_count": 42,
   "id": "d72c19ca-b9cc-436c-a50b-410a0caa4467",
   "metadata": {},
   "outputs": [
    {
     "data": {
      "text/html": [
       "<div>\n",
       "<style scoped>\n",
       "    .dataframe tbody tr th:only-of-type {\n",
       "        vertical-align: middle;\n",
       "    }\n",
       "\n",
       "    .dataframe tbody tr th {\n",
       "        vertical-align: top;\n",
       "    }\n",
       "\n",
       "    .dataframe thead th {\n",
       "        text-align: right;\n",
       "    }\n",
       "</style>\n",
       "<table border=\"1\" class=\"dataframe\">\n",
       "  <thead>\n",
       "    <tr style=\"text-align: right;\">\n",
       "      <th></th>\n",
       "      <th>host_id</th>\n",
       "      <th>host_name</th>\n",
       "      <th>host_since</th>\n",
       "      <th>host_location</th>\n",
       "      <th>host_about</th>\n",
       "    </tr>\n",
       "  </thead>\n",
       "  <tbody>\n",
       "    <tr>\n",
       "      <th>0</th>\n",
       "      <td>234077</td>\n",
       "      <td>Karin</td>\n",
       "      <td>2010-09-14</td>\n",
       "      <td>Antwerp, Flanders, Belgium</td>\n",
       "      <td>Ever since my childhood I dreamt of having my ...</td>\n",
       "    </tr>\n",
       "    <tr>\n",
       "      <th>1</th>\n",
       "      <td>334804</td>\n",
       "      <td>Ann</td>\n",
       "      <td>2011-01-04</td>\n",
       "      <td>Antwerp, Flemish Region, Belgium</td>\n",
       "      <td>Ciao, \\r\\nlooking forward to meet you!\\r\\nI lo...</td>\n",
       "    </tr>\n",
       "  </tbody>\n",
       "</table>\n",
       "</div>"
      ],
      "text/plain": [
       "   host_id host_name host_since                     host_location  \\\n",
       "0   234077     Karin 2010-09-14        Antwerp, Flanders, Belgium   \n",
       "1   334804       Ann 2011-01-04  Antwerp, Flemish Region, Belgium   \n",
       "\n",
       "                                          host_about  \n",
       "0  Ever since my childhood I dreamt of having my ...  \n",
       "1  Ciao, \\r\\nlooking forward to meet you!\\r\\nI lo...  "
      ]
     },
     "execution_count": 42,
     "metadata": {},
     "output_type": "execute_result"
    }
   ],
   "source": [
    "df_hosts.head(2)"
   ]
  },
  {
   "cell_type": "code",
   "execution_count": 44,
   "id": "46083f8c-9898-4281-93e4-ec3f1ed172dc",
   "metadata": {},
   "outputs": [
    {
     "data": {
      "text/plain": [
       "1111"
      ]
     },
     "execution_count": 44,
     "metadata": {},
     "output_type": "execute_result"
    }
   ],
   "source": [
    "df_hosts['host_id'].nunique()"
   ]
  },
  {
   "cell_type": "code",
   "execution_count": 62,
   "id": "88a489a1-2b58-4e19-b069-89dfd067dc5f",
   "metadata": {},
   "outputs": [
    {
     "data": {
      "text/html": [
       "<div>\n",
       "<style scoped>\n",
       "    .dataframe tbody tr th:only-of-type {\n",
       "        vertical-align: middle;\n",
       "    }\n",
       "\n",
       "    .dataframe tbody tr th {\n",
       "        vertical-align: top;\n",
       "    }\n",
       "\n",
       "    .dataframe thead th {\n",
       "        text-align: right;\n",
       "    }\n",
       "</style>\n",
       "<table border=\"1\" class=\"dataframe\">\n",
       "  <thead>\n",
       "    <tr style=\"text-align: right;\">\n",
       "      <th></th>\n",
       "      <th>review_id</th>\n",
       "      <th>listing_id</th>\n",
       "      <th>date</th>\n",
       "      <th>reviewer_id</th>\n",
       "      <th>reviewer_name</th>\n",
       "      <th>comments</th>\n",
       "    </tr>\n",
       "  </thead>\n",
       "  <tbody>\n",
       "    <tr>\n",
       "      <th>0</th>\n",
       "      <td>1</td>\n",
       "      <td>50904</td>\n",
       "      <td>2015-05-06</td>\n",
       "      <td>19482395</td>\n",
       "      <td>Jihae</td>\n",
       "      <td>Karin’s “Aplace” is absolutely beautiful and c...</td>\n",
       "    </tr>\n",
       "    <tr>\n",
       "      <th>1</th>\n",
       "      <td>2</td>\n",
       "      <td>50904</td>\n",
       "      <td>2021-10-10</td>\n",
       "      <td>333559</td>\n",
       "      <td>Emilie</td>\n",
       "      <td>Karin is a wonderful host, she was really help...</td>\n",
       "    </tr>\n",
       "    <tr>\n",
       "      <th>2</th>\n",
       "      <td>3</td>\n",
       "      <td>116134</td>\n",
       "      <td>2012-03-05</td>\n",
       "      <td>928644</td>\n",
       "      <td>Aurélien</td>\n",
       "      <td>Amazing flat, really close from the MAS Musem,...</td>\n",
       "    </tr>\n",
       "    <tr>\n",
       "      <th>3</th>\n",
       "      <td>4</td>\n",
       "      <td>116134</td>\n",
       "      <td>2012-05-25</td>\n",
       "      <td>231288</td>\n",
       "      <td>Gail</td>\n",
       "      <td>This is a well equipped, very comfortable apar...</td>\n",
       "    </tr>\n",
       "    <tr>\n",
       "      <th>4</th>\n",
       "      <td>5</td>\n",
       "      <td>116134</td>\n",
       "      <td>2013-09-03</td>\n",
       "      <td>7984251</td>\n",
       "      <td>Marcel</td>\n",
       "      <td>This is a very nice appartement. We really lik...</td>\n",
       "    </tr>\n",
       "  </tbody>\n",
       "</table>\n",
       "</div>"
      ],
      "text/plain": [
       "   review_id  listing_id       date  reviewer_id reviewer_name  \\\n",
       "0          1       50904 2015-05-06     19482395         Jihae   \n",
       "1          2       50904 2021-10-10       333559        Emilie   \n",
       "2          3      116134 2012-03-05       928644      Aurélien   \n",
       "3          4      116134 2012-05-25       231288          Gail   \n",
       "4          5      116134 2013-09-03      7984251        Marcel   \n",
       "\n",
       "                                            comments  \n",
       "0  Karin’s “Aplace” is absolutely beautiful and c...  \n",
       "1  Karin is a wonderful host, she was really help...  \n",
       "2  Amazing flat, really close from the MAS Musem,...  \n",
       "3  This is a well equipped, very comfortable apar...  \n",
       "4  This is a very nice appartement. We really lik...  "
      ]
     },
     "execution_count": 62,
     "metadata": {},
     "output_type": "execute_result"
    }
   ],
   "source": [
    "df_reviews.head()"
   ]
  },
  {
   "cell_type": "markdown",
   "id": "ddffe324-ff6a-48aa-b294-b6d8fc3ff0aa",
   "metadata": {},
   "source": [
    "<font size=\"5\">Adding 2 columns a)Total reviews b)Since the latest review"
   ]
  },
  {
   "cell_type": "code",
   "execution_count": 59,
   "id": "ae067318-9123-4271-a226-e982b9c269f9",
   "metadata": {},
   "outputs": [],
   "source": [
    "number_of_reviews = df_reviews.groupby('listing_id').count()['review_id'].to_dict()"
   ]
  },
  {
   "cell_type": "code",
   "execution_count": 65,
   "id": "cdb57429-6ec7-4e6d-b9fe-6b466f8e5c57",
   "metadata": {},
   "outputs": [],
   "source": [
    "df_reviews['total_reviews']=df_reviews['listing_id'].map(number_of_reviews)"
   ]
  },
  {
   "cell_type": "code",
   "execution_count": 68,
   "id": "a5349797-36cd-4b7f-809f-685b0466435b",
   "metadata": {},
   "outputs": [
    {
     "data": {
      "text/html": [
       "<div>\n",
       "<style scoped>\n",
       "    .dataframe tbody tr th:only-of-type {\n",
       "        vertical-align: middle;\n",
       "    }\n",
       "\n",
       "    .dataframe tbody tr th {\n",
       "        vertical-align: top;\n",
       "    }\n",
       "\n",
       "    .dataframe thead th {\n",
       "        text-align: right;\n",
       "    }\n",
       "</style>\n",
       "<table border=\"1\" class=\"dataframe\">\n",
       "  <thead>\n",
       "    <tr style=\"text-align: right;\">\n",
       "      <th></th>\n",
       "      <th>review_id</th>\n",
       "      <th>listing_id</th>\n",
       "      <th>date</th>\n",
       "      <th>reviewer_id</th>\n",
       "      <th>reviewer_name</th>\n",
       "      <th>comments</th>\n",
       "      <th>total_reviews</th>\n",
       "    </tr>\n",
       "  </thead>\n",
       "  <tbody>\n",
       "    <tr>\n",
       "      <th>0</th>\n",
       "      <td>1</td>\n",
       "      <td>50904</td>\n",
       "      <td>2015-05-06</td>\n",
       "      <td>19482395</td>\n",
       "      <td>Jihae</td>\n",
       "      <td>Karin’s “Aplace” is absolutely beautiful and c...</td>\n",
       "      <td>2</td>\n",
       "    </tr>\n",
       "    <tr>\n",
       "      <th>1</th>\n",
       "      <td>2</td>\n",
       "      <td>50904</td>\n",
       "      <td>2021-10-10</td>\n",
       "      <td>333559</td>\n",
       "      <td>Emilie</td>\n",
       "      <td>Karin is a wonderful host, she was really help...</td>\n",
       "      <td>2</td>\n",
       "    </tr>\n",
       "    <tr>\n",
       "      <th>2</th>\n",
       "      <td>3</td>\n",
       "      <td>116134</td>\n",
       "      <td>2012-03-05</td>\n",
       "      <td>928644</td>\n",
       "      <td>Aurélien</td>\n",
       "      <td>Amazing flat, really close from the MAS Musem,...</td>\n",
       "      <td>120</td>\n",
       "    </tr>\n",
       "    <tr>\n",
       "      <th>3</th>\n",
       "      <td>4</td>\n",
       "      <td>116134</td>\n",
       "      <td>2012-05-25</td>\n",
       "      <td>231288</td>\n",
       "      <td>Gail</td>\n",
       "      <td>This is a well equipped, very comfortable apar...</td>\n",
       "      <td>120</td>\n",
       "    </tr>\n",
       "    <tr>\n",
       "      <th>4</th>\n",
       "      <td>5</td>\n",
       "      <td>116134</td>\n",
       "      <td>2013-09-03</td>\n",
       "      <td>7984251</td>\n",
       "      <td>Marcel</td>\n",
       "      <td>This is a very nice appartement. We really lik...</td>\n",
       "      <td>120</td>\n",
       "    </tr>\n",
       "  </tbody>\n",
       "</table>\n",
       "</div>"
      ],
      "text/plain": [
       "   review_id  listing_id       date  reviewer_id reviewer_name  \\\n",
       "0          1       50904 2015-05-06     19482395         Jihae   \n",
       "1          2       50904 2021-10-10       333559        Emilie   \n",
       "2          3      116134 2012-03-05       928644      Aurélien   \n",
       "3          4      116134 2012-05-25       231288          Gail   \n",
       "4          5      116134 2013-09-03      7984251        Marcel   \n",
       "\n",
       "                                            comments  total_reviews  \n",
       "0  Karin’s “Aplace” is absolutely beautiful and c...              2  \n",
       "1  Karin is a wonderful host, she was really help...              2  \n",
       "2  Amazing flat, really close from the MAS Musem,...            120  \n",
       "3  This is a well equipped, very comfortable apar...            120  \n",
       "4  This is a very nice appartement. We really lik...            120  "
      ]
     },
     "execution_count": 68,
     "metadata": {},
     "output_type": "execute_result"
    }
   ],
   "source": [
    "df_reviews.head()"
   ]
  },
  {
   "cell_type": "code",
   "execution_count": 128,
   "id": "50d32fd6-f95c-4d0e-8b0e-6f940557026a",
   "metadata": {},
   "outputs": [
    {
     "data": {
      "text/plain": [
       "0        2552\n",
       "1         203\n",
       "2        3709\n",
       "3        3628\n",
       "4        3162\n",
       "         ... \n",
       "62982     147\n",
       "62983     140\n",
       "62984     131\n",
       "62985     133\n",
       "62986     129\n",
       "Name: date, Length: 62987, dtype: int64"
      ]
     },
     "execution_count": 128,
     "metadata": {},
     "output_type": "execute_result"
    }
   ],
   "source": [
    "basedate2=pd.Timestamp('2022-05-01')\n",
    "days_since_review=abs(df_reviews['date']-basedate2).dt.days\n",
    "days_since_review"
   ]
  },
  {
   "cell_type": "code",
   "execution_count": 129,
   "id": "b7d3ef62-f56d-4945-a56a-aaee6dc95943",
   "metadata": {},
   "outputs": [],
   "source": [
    "df_reviews['days_since_review']=days_since_review"
   ]
  },
  {
   "cell_type": "code",
   "execution_count": 82,
   "id": "216e16c6-12f4-4fef-91eb-dee3e10d529f",
   "metadata": {},
   "outputs": [
    {
     "data": {
      "text/html": [
       "<div>\n",
       "<style scoped>\n",
       "    .dataframe tbody tr th:only-of-type {\n",
       "        vertical-align: middle;\n",
       "    }\n",
       "\n",
       "    .dataframe tbody tr th {\n",
       "        vertical-align: top;\n",
       "    }\n",
       "\n",
       "    .dataframe thead th {\n",
       "        text-align: right;\n",
       "    }\n",
       "</style>\n",
       "<table border=\"1\" class=\"dataframe\">\n",
       "  <thead>\n",
       "    <tr style=\"text-align: right;\">\n",
       "      <th></th>\n",
       "      <th>review_id</th>\n",
       "      <th>listing_id</th>\n",
       "      <th>date</th>\n",
       "      <th>reviewer_id</th>\n",
       "      <th>reviewer_name</th>\n",
       "      <th>comments</th>\n",
       "      <th>total_reviews</th>\n",
       "      <th>days_since_review</th>\n",
       "    </tr>\n",
       "  </thead>\n",
       "  <tbody>\n",
       "    <tr>\n",
       "      <th>0</th>\n",
       "      <td>1</td>\n",
       "      <td>50904</td>\n",
       "      <td>2015-05-06</td>\n",
       "      <td>19482395</td>\n",
       "      <td>Jihae</td>\n",
       "      <td>Karin’s “Aplace” is absolutely beautiful and c...</td>\n",
       "      <td>2</td>\n",
       "      <td>2552</td>\n",
       "    </tr>\n",
       "    <tr>\n",
       "      <th>1</th>\n",
       "      <td>2</td>\n",
       "      <td>50904</td>\n",
       "      <td>2021-10-10</td>\n",
       "      <td>333559</td>\n",
       "      <td>Emilie</td>\n",
       "      <td>Karin is a wonderful host, she was really help...</td>\n",
       "      <td>2</td>\n",
       "      <td>203</td>\n",
       "    </tr>\n",
       "  </tbody>\n",
       "</table>\n",
       "</div>"
      ],
      "text/plain": [
       "   review_id  listing_id       date  reviewer_id reviewer_name  \\\n",
       "0          1       50904 2015-05-06     19482395         Jihae   \n",
       "1          2       50904 2021-10-10       333559        Emilie   \n",
       "\n",
       "                                            comments  total_reviews  \\\n",
       "0  Karin’s “Aplace” is absolutely beautiful and c...              2   \n",
       "1  Karin is a wonderful host, she was really help...              2   \n",
       "\n",
       "   days_since_review  \n",
       "0               2552  \n",
       "1                203  "
      ]
     },
     "execution_count": 82,
     "metadata": {},
     "output_type": "execute_result"
    }
   ],
   "source": [
    "df_reviews.head(2)"
   ]
  },
  {
   "cell_type": "code",
   "execution_count": 75,
   "id": "1b8b661f-45e9-426f-adff-e7cc562e1e66",
   "metadata": {},
   "outputs": [],
   "source": [
    "total_reviews = df_reviews.groupby('listing_id').count()[['review_id']]"
   ]
  },
  {
   "cell_type": "code",
   "execution_count": 76,
   "id": "6b0167f2-2425-43e2-8d01-3fd88472a6b9",
   "metadata": {},
   "outputs": [
    {
     "data": {
      "text/html": [
       "<div>\n",
       "<style scoped>\n",
       "    .dataframe tbody tr th:only-of-type {\n",
       "        vertical-align: middle;\n",
       "    }\n",
       "\n",
       "    .dataframe tbody tr th {\n",
       "        vertical-align: top;\n",
       "    }\n",
       "\n",
       "    .dataframe thead th {\n",
       "        text-align: right;\n",
       "    }\n",
       "</style>\n",
       "<table border=\"1\" class=\"dataframe\">\n",
       "  <thead>\n",
       "    <tr style=\"text-align: right;\">\n",
       "      <th></th>\n",
       "      <th>review_id</th>\n",
       "    </tr>\n",
       "    <tr>\n",
       "      <th>listing_id</th>\n",
       "      <th></th>\n",
       "    </tr>\n",
       "  </thead>\n",
       "  <tbody>\n",
       "    <tr>\n",
       "      <th>50904</th>\n",
       "      <td>2</td>\n",
       "    </tr>\n",
       "    <tr>\n",
       "      <th>116134</th>\n",
       "      <td>120</td>\n",
       "    </tr>\n",
       "    <tr>\n",
       "      <th>218916</th>\n",
       "      <td>28</td>\n",
       "    </tr>\n",
       "    <tr>\n",
       "      <th>224333</th>\n",
       "      <td>3</td>\n",
       "    </tr>\n",
       "    <tr>\n",
       "      <th>224682</th>\n",
       "      <td>349</td>\n",
       "    </tr>\n",
       "    <tr>\n",
       "      <th>...</th>\n",
       "      <td>...</td>\n",
       "    </tr>\n",
       "    <tr>\n",
       "      <th>53522234</th>\n",
       "      <td>2</td>\n",
       "    </tr>\n",
       "    <tr>\n",
       "      <th>53538847</th>\n",
       "      <td>1</td>\n",
       "    </tr>\n",
       "    <tr>\n",
       "      <th>53600839</th>\n",
       "      <td>1</td>\n",
       "    </tr>\n",
       "    <tr>\n",
       "      <th>53819793</th>\n",
       "      <td>1</td>\n",
       "    </tr>\n",
       "    <tr>\n",
       "      <th>53825194</th>\n",
       "      <td>2</td>\n",
       "    </tr>\n",
       "  </tbody>\n",
       "</table>\n",
       "<p>1525 rows × 1 columns</p>\n",
       "</div>"
      ],
      "text/plain": [
       "            review_id\n",
       "listing_id           \n",
       "50904               2\n",
       "116134            120\n",
       "218916             28\n",
       "224333              3\n",
       "224682            349\n",
       "...               ...\n",
       "53522234            2\n",
       "53538847            1\n",
       "53600839            1\n",
       "53819793            1\n",
       "53825194            2\n",
       "\n",
       "[1525 rows x 1 columns]"
      ]
     },
     "execution_count": 76,
     "metadata": {},
     "output_type": "execute_result"
    }
   ],
   "source": [
    "total_reviews"
   ]
  },
  {
   "cell_type": "code",
   "execution_count": 77,
   "id": "d10c9ea1-1ca5-48c6-8363-e15356402685",
   "metadata": {},
   "outputs": [],
   "source": [
    "total_reviews.reset_index(level=0, inplace=True)"
   ]
  },
  {
   "cell_type": "code",
   "execution_count": 78,
   "id": "1150a620-4758-4b0b-9997-cde6e6431008",
   "metadata": {},
   "outputs": [],
   "source": [
    "total_reviews.columns=['listing_id','total_reviews']"
   ]
  },
  {
   "cell_type": "code",
   "execution_count": 79,
   "id": "64a92eb6-6e56-4c4b-b99f-bdc3b5c0bc03",
   "metadata": {},
   "outputs": [
    {
     "data": {
      "text/html": [
       "<div>\n",
       "<style scoped>\n",
       "    .dataframe tbody tr th:only-of-type {\n",
       "        vertical-align: middle;\n",
       "    }\n",
       "\n",
       "    .dataframe tbody tr th {\n",
       "        vertical-align: top;\n",
       "    }\n",
       "\n",
       "    .dataframe thead th {\n",
       "        text-align: right;\n",
       "    }\n",
       "</style>\n",
       "<table border=\"1\" class=\"dataframe\">\n",
       "  <thead>\n",
       "    <tr style=\"text-align: right;\">\n",
       "      <th></th>\n",
       "      <th>listing_id</th>\n",
       "      <th>total_reviews</th>\n",
       "    </tr>\n",
       "  </thead>\n",
       "  <tbody>\n",
       "    <tr>\n",
       "      <th>0</th>\n",
       "      <td>50904</td>\n",
       "      <td>2</td>\n",
       "    </tr>\n",
       "    <tr>\n",
       "      <th>1</th>\n",
       "      <td>116134</td>\n",
       "      <td>120</td>\n",
       "    </tr>\n",
       "    <tr>\n",
       "      <th>2</th>\n",
       "      <td>218916</td>\n",
       "      <td>28</td>\n",
       "    </tr>\n",
       "    <tr>\n",
       "      <th>3</th>\n",
       "      <td>224333</td>\n",
       "      <td>3</td>\n",
       "    </tr>\n",
       "    <tr>\n",
       "      <th>4</th>\n",
       "      <td>224682</td>\n",
       "      <td>349</td>\n",
       "    </tr>\n",
       "    <tr>\n",
       "      <th>...</th>\n",
       "      <td>...</td>\n",
       "      <td>...</td>\n",
       "    </tr>\n",
       "    <tr>\n",
       "      <th>1520</th>\n",
       "      <td>53522234</td>\n",
       "      <td>2</td>\n",
       "    </tr>\n",
       "    <tr>\n",
       "      <th>1521</th>\n",
       "      <td>53538847</td>\n",
       "      <td>1</td>\n",
       "    </tr>\n",
       "    <tr>\n",
       "      <th>1522</th>\n",
       "      <td>53600839</td>\n",
       "      <td>1</td>\n",
       "    </tr>\n",
       "    <tr>\n",
       "      <th>1523</th>\n",
       "      <td>53819793</td>\n",
       "      <td>1</td>\n",
       "    </tr>\n",
       "    <tr>\n",
       "      <th>1524</th>\n",
       "      <td>53825194</td>\n",
       "      <td>2</td>\n",
       "    </tr>\n",
       "  </tbody>\n",
       "</table>\n",
       "<p>1525 rows × 2 columns</p>\n",
       "</div>"
      ],
      "text/plain": [
       "      listing_id  total_reviews\n",
       "0          50904              2\n",
       "1         116134            120\n",
       "2         218916             28\n",
       "3         224333              3\n",
       "4         224682            349\n",
       "...          ...            ...\n",
       "1520    53522234              2\n",
       "1521    53538847              1\n",
       "1522    53600839              1\n",
       "1523    53819793              1\n",
       "1524    53825194              2\n",
       "\n",
       "[1525 rows x 2 columns]"
      ]
     },
     "execution_count": 79,
     "metadata": {},
     "output_type": "execute_result"
    }
   ],
   "source": [
    "total_reviews"
   ]
  },
  {
   "cell_type": "code",
   "execution_count": 87,
   "id": "846c54f3-9b94-4d86-ae3f-1f76c5fd5c56",
   "metadata": {},
   "outputs": [],
   "source": [
    "recent_reviews = df_reviews.groupby('listing_id').mean()[['days_since_review']]\n",
    "recent_reviews.reset_index(level=0, inplace=True)"
   ]
  },
  {
   "cell_type": "code",
   "execution_count": 88,
   "id": "eecacb49-85b9-441f-9f6a-5f55268abfca",
   "metadata": {},
   "outputs": [
    {
     "data": {
      "text/html": [
       "<div>\n",
       "<style scoped>\n",
       "    .dataframe tbody tr th:only-of-type {\n",
       "        vertical-align: middle;\n",
       "    }\n",
       "\n",
       "    .dataframe tbody tr th {\n",
       "        vertical-align: top;\n",
       "    }\n",
       "\n",
       "    .dataframe thead th {\n",
       "        text-align: right;\n",
       "    }\n",
       "</style>\n",
       "<table border=\"1\" class=\"dataframe\">\n",
       "  <thead>\n",
       "    <tr style=\"text-align: right;\">\n",
       "      <th></th>\n",
       "      <th>listing_id</th>\n",
       "      <th>days_since_review</th>\n",
       "    </tr>\n",
       "  </thead>\n",
       "  <tbody>\n",
       "    <tr>\n",
       "      <th>0</th>\n",
       "      <td>50904</td>\n",
       "      <td>1377.500000</td>\n",
       "    </tr>\n",
       "    <tr>\n",
       "      <th>1</th>\n",
       "      <td>116134</td>\n",
       "      <td>1559.908333</td>\n",
       "    </tr>\n",
       "    <tr>\n",
       "      <th>2</th>\n",
       "      <td>218916</td>\n",
       "      <td>2457.250000</td>\n",
       "    </tr>\n",
       "    <tr>\n",
       "      <th>3</th>\n",
       "      <td>224333</td>\n",
       "      <td>1632.000000</td>\n",
       "    </tr>\n",
       "    <tr>\n",
       "      <th>4</th>\n",
       "      <td>224682</td>\n",
       "      <td>1771.143266</td>\n",
       "    </tr>\n",
       "    <tr>\n",
       "      <th>...</th>\n",
       "      <td>...</td>\n",
       "      <td>...</td>\n",
       "    </tr>\n",
       "    <tr>\n",
       "      <th>1520</th>\n",
       "      <td>53522234</td>\n",
       "      <td>143.000000</td>\n",
       "    </tr>\n",
       "    <tr>\n",
       "      <th>1521</th>\n",
       "      <td>53538847</td>\n",
       "      <td>147.000000</td>\n",
       "    </tr>\n",
       "    <tr>\n",
       "      <th>1522</th>\n",
       "      <td>53600839</td>\n",
       "      <td>140.000000</td>\n",
       "    </tr>\n",
       "    <tr>\n",
       "      <th>1523</th>\n",
       "      <td>53819793</td>\n",
       "      <td>131.000000</td>\n",
       "    </tr>\n",
       "    <tr>\n",
       "      <th>1524</th>\n",
       "      <td>53825194</td>\n",
       "      <td>131.000000</td>\n",
       "    </tr>\n",
       "  </tbody>\n",
       "</table>\n",
       "<p>1525 rows × 2 columns</p>\n",
       "</div>"
      ],
      "text/plain": [
       "      listing_id  days_since_review\n",
       "0          50904        1377.500000\n",
       "1         116134        1559.908333\n",
       "2         218916        2457.250000\n",
       "3         224333        1632.000000\n",
       "4         224682        1771.143266\n",
       "...          ...                ...\n",
       "1520    53522234         143.000000\n",
       "1521    53538847         147.000000\n",
       "1522    53600839         140.000000\n",
       "1523    53819793         131.000000\n",
       "1524    53825194         131.000000\n",
       "\n",
       "[1525 rows x 2 columns]"
      ]
     },
     "execution_count": 88,
     "metadata": {},
     "output_type": "execute_result"
    }
   ],
   "source": [
    "recent_reviews"
   ]
  },
  {
   "cell_type": "markdown",
   "id": "b45a7439-ed03-4bed-b584-7292b8a6e336",
   "metadata": {},
   "source": [
    "<font size=\"5\">Merging of Tables.\n",
    "We need to keep add one table to another still all 4 joins"
   ]
  },
  {
   "cell_type": "code",
   "execution_count": 90,
   "id": "ba07dc39-3bdd-4fc3-930c-a751efc8e5f1",
   "metadata": {},
   "outputs": [],
   "source": [
    "df_reviews_final = pd.merge(total_reviews,recent_reviews, on='listing_id', how ='inner')"
   ]
  },
  {
   "cell_type": "code",
   "execution_count": 93,
   "id": "6d61147f-a327-4307-9b86-ea2f24c3607a",
   "metadata": {},
   "outputs": [
    {
     "data": {
      "text/html": [
       "<div>\n",
       "<style scoped>\n",
       "    .dataframe tbody tr th:only-of-type {\n",
       "        vertical-align: middle;\n",
       "    }\n",
       "\n",
       "    .dataframe tbody tr th {\n",
       "        vertical-align: top;\n",
       "    }\n",
       "\n",
       "    .dataframe thead th {\n",
       "        text-align: right;\n",
       "    }\n",
       "</style>\n",
       "<table border=\"1\" class=\"dataframe\">\n",
       "  <thead>\n",
       "    <tr style=\"text-align: right;\">\n",
       "      <th></th>\n",
       "      <th>listing_id</th>\n",
       "      <th>total_reviews</th>\n",
       "      <th>days_since_review</th>\n",
       "    </tr>\n",
       "  </thead>\n",
       "  <tbody>\n",
       "    <tr>\n",
       "      <th>0</th>\n",
       "      <td>50904</td>\n",
       "      <td>2</td>\n",
       "      <td>1377.500000</td>\n",
       "    </tr>\n",
       "    <tr>\n",
       "      <th>1</th>\n",
       "      <td>116134</td>\n",
       "      <td>120</td>\n",
       "      <td>1559.908333</td>\n",
       "    </tr>\n",
       "  </tbody>\n",
       "</table>\n",
       "</div>"
      ],
      "text/plain": [
       "   listing_id  total_reviews  days_since_review\n",
       "0       50904              2        1377.500000\n",
       "1      116134            120        1559.908333"
      ]
     },
     "execution_count": 93,
     "metadata": {},
     "output_type": "execute_result"
    }
   ],
   "source": [
    "df_reviews_final.head(2)"
   ]
  },
  {
   "cell_type": "code",
   "execution_count": 95,
   "id": "3ecc2ad0-afe2-498f-861f-ae09b79aff8b",
   "metadata": {},
   "outputs": [
    {
     "data": {
      "text/plain": [
       "(1749, 21)"
      ]
     },
     "execution_count": 95,
     "metadata": {},
     "output_type": "execute_result"
    }
   ],
   "source": [
    "df_cal_list = pd.merge(df_calender_mean,df_listings,on='listing_id', how ='inner')\n",
    "df_cal_list.shape"
   ]
  },
  {
   "cell_type": "code",
   "execution_count": 98,
   "id": "1e8ad0bb-9108-4a84-a283-76cf82209dfa",
   "metadata": {},
   "outputs": [
    {
     "data": {
      "text/plain": [
       "(1749, 25)"
      ]
     },
     "execution_count": 98,
     "metadata": {},
     "output_type": "execute_result"
    }
   ],
   "source": [
    "df_cal_list_host = pd.merge(df_cal_list,df_hosts,on='host_id', how ='inner')\n",
    "df_cal_list_host.shape"
   ]
  },
  {
   "cell_type": "code",
   "execution_count": 102,
   "id": "0abdb9b3-df65-44af-8008-54af031d32ca",
   "metadata": {},
   "outputs": [
    {
     "data": {
      "text/plain": [
       "(1749, 27)"
      ]
     },
     "execution_count": 102,
     "metadata": {},
     "output_type": "execute_result"
    }
   ],
   "source": [
    "df_cal_list_host_reviews = pd.merge(df_cal_list_host,df_reviews_final,on='listing_id', how ='left')\n",
    "df_cal_list_host_reviews.shape"
   ]
  },
  {
   "cell_type": "code",
   "execution_count": 105,
   "id": "99c8e040-9443-4c47-a174-f0460e70c261",
   "metadata": {},
   "outputs": [
    {
     "data": {
      "text/html": [
       "<div>\n",
       "<style scoped>\n",
       "    .dataframe tbody tr th:only-of-type {\n",
       "        vertical-align: middle;\n",
       "    }\n",
       "\n",
       "    .dataframe tbody tr th {\n",
       "        vertical-align: top;\n",
       "    }\n",
       "\n",
       "    .dataframe thead th {\n",
       "        text-align: right;\n",
       "    }\n",
       "</style>\n",
       "<table border=\"1\" class=\"dataframe\">\n",
       "  <thead>\n",
       "    <tr style=\"text-align: right;\">\n",
       "      <th></th>\n",
       "      <th>index</th>\n",
       "      <th>listing_id</th>\n",
       "      <th>calender_id</th>\n",
       "      <th>available</th>\n",
       "      <th>price</th>\n",
       "      <th>adjusted_price</th>\n",
       "      <th>minimum_nights</th>\n",
       "      <th>maximum_nights</th>\n",
       "      <th>listing_url</th>\n",
       "      <th>name</th>\n",
       "      <th>...</th>\n",
       "      <th>bedrooms</th>\n",
       "      <th>beds</th>\n",
       "      <th>amenities</th>\n",
       "      <th>host_id</th>\n",
       "      <th>host_name</th>\n",
       "      <th>host_since</th>\n",
       "      <th>host_location</th>\n",
       "      <th>host_about</th>\n",
       "      <th>total_reviews</th>\n",
       "      <th>days_since_review</th>\n",
       "    </tr>\n",
       "  </thead>\n",
       "  <tbody>\n",
       "    <tr>\n",
       "      <th>0</th>\n",
       "      <td>0</td>\n",
       "      <td>50904</td>\n",
       "      <td>166029.333333</td>\n",
       "      <td>0.0</td>\n",
       "      <td>166.666667</td>\n",
       "      <td>158.666667</td>\n",
       "      <td>1.000000</td>\n",
       "      <td>60.0</td>\n",
       "      <td>https://www.airbnb.com/rooms/50904</td>\n",
       "      <td>aplace/antwerp: cosy suite - fashion district</td>\n",
       "      <td>...</td>\n",
       "      <td>1.0</td>\n",
       "      <td>1.0</td>\n",
       "      <td>[\"Kitchen\", \"Smoke alarm\", \"Hair dryer\", \"Keyp...</td>\n",
       "      <td>234077</td>\n",
       "      <td>Karin</td>\n",
       "      <td>2010-09-14</td>\n",
       "      <td>Antwerp, Flanders, Belgium</td>\n",
       "      <td>Ever since my childhood I dreamt of having my ...</td>\n",
       "      <td>2.0</td>\n",
       "      <td>1377.5</td>\n",
       "    </tr>\n",
       "    <tr>\n",
       "      <th>1</th>\n",
       "      <td>17</td>\n",
       "      <td>891884</td>\n",
       "      <td>30099.000000</td>\n",
       "      <td>0.0</td>\n",
       "      <td>175.000000</td>\n",
       "      <td>175.000000</td>\n",
       "      <td>1.666667</td>\n",
       "      <td>1125.0</td>\n",
       "      <td>https://www.airbnb.com/rooms/891884</td>\n",
       "      <td>aplace/antwerp: amazing suite &amp; square view</td>\n",
       "      <td>...</td>\n",
       "      <td>1.0</td>\n",
       "      <td>1.0</td>\n",
       "      <td>[\"Refrigerator\", \"Kitchen\", \"Smoke alarm\", \"Ha...</td>\n",
       "      <td>234077</td>\n",
       "      <td>Karin</td>\n",
       "      <td>2010-09-14</td>\n",
       "      <td>Antwerp, Flanders, Belgium</td>\n",
       "      <td>Ever since my childhood I dreamt of having my ...</td>\n",
       "      <td>2.0</td>\n",
       "      <td>638.0</td>\n",
       "    </tr>\n",
       "  </tbody>\n",
       "</table>\n",
       "<p>2 rows × 27 columns</p>\n",
       "</div>"
      ],
      "text/plain": [
       "   index  listing_id    calender_id  available       price  adjusted_price  \\\n",
       "0      0       50904  166029.333333        0.0  166.666667      158.666667   \n",
       "1     17      891884   30099.000000        0.0  175.000000      175.000000   \n",
       "\n",
       "   minimum_nights  maximum_nights                          listing_url  \\\n",
       "0        1.000000            60.0   https://www.airbnb.com/rooms/50904   \n",
       "1        1.666667          1125.0  https://www.airbnb.com/rooms/891884   \n",
       "\n",
       "                                            name  ... bedrooms  beds  \\\n",
       "0  aplace/antwerp: cosy suite - fashion district  ...      1.0   1.0   \n",
       "1    aplace/antwerp: amazing suite & square view  ...      1.0   1.0   \n",
       "\n",
       "                                           amenities host_id host_name  \\\n",
       "0  [\"Kitchen\", \"Smoke alarm\", \"Hair dryer\", \"Keyp...  234077     Karin   \n",
       "1  [\"Refrigerator\", \"Kitchen\", \"Smoke alarm\", \"Ha...  234077     Karin   \n",
       "\n",
       "   host_since               host_location  \\\n",
       "0  2010-09-14  Antwerp, Flanders, Belgium   \n",
       "1  2010-09-14  Antwerp, Flanders, Belgium   \n",
       "\n",
       "                                          host_about  total_reviews  \\\n",
       "0  Ever since my childhood I dreamt of having my ...            2.0   \n",
       "1  Ever since my childhood I dreamt of having my ...            2.0   \n",
       "\n",
       "  days_since_review  \n",
       "0            1377.5  \n",
       "1             638.0  \n",
       "\n",
       "[2 rows x 27 columns]"
      ]
     },
     "execution_count": 105,
     "metadata": {},
     "output_type": "execute_result"
    }
   ],
   "source": [
    "df_cal_list_host_reviews.head(2)"
   ]
  },
  {
   "cell_type": "code",
   "execution_count": 107,
   "id": "e092e280-603d-45ac-b45d-cc7fff3b339b",
   "metadata": {},
   "outputs": [
    {
     "data": {
      "text/plain": [
       "<AxesSubplot:>"
      ]
     },
     "execution_count": 107,
     "metadata": {},
     "output_type": "execute_result"
    },
    {
     "data": {
      "image/png": "[encoded data removed]",
      "text/plain": [
       "<Figure size 432x288 with 1 Axes>"
      ]
     },
     "metadata": {
      "needs_background": "light"
     },
     "output_type": "display_data"
    }
   ],
   "source": [
    "df_cal_list_host_reviews.isna().sum().plot(kind='bar')"
   ]
  },
  {
   "cell_type": "code",
   "execution_count": 108,
   "id": "6d0df723-ff55-41be-9fd1-f464af9e3049",
   "metadata": {},
   "outputs": [],
   "source": [
    "df_cal_list_host_reviews.to_csv('merged_airbnb.csv')"
   ]
  },
  {
   "cell_type": "code",
   "execution_count": 116,
   "id": "c77af522-1c71-4802-86bf-553a61a1468a",
   "metadata": {},
   "outputs": [
    {
     "data": {
      "text/html": [
       "<div>\n",
       "<style scoped>\n",
       "    .dataframe tbody tr th:only-of-type {\n",
       "        vertical-align: middle;\n",
       "    }\n",
       "\n",
       "    .dataframe tbody tr th {\n",
       "        vertical-align: top;\n",
       "    }\n",
       "\n",
       "    .dataframe thead th {\n",
       "        text-align: right;\n",
       "    }\n",
       "</style>\n",
       "<table border=\"1\" class=\"dataframe\">\n",
       "  <thead>\n",
       "    <tr style=\"text-align: right;\">\n",
       "      <th></th>\n",
       "      <th>index</th>\n",
       "      <th>listing_id</th>\n",
       "      <th>calender_id</th>\n",
       "      <th>available</th>\n",
       "      <th>price</th>\n",
       "      <th>adjusted_price</th>\n",
       "      <th>minimum_nights</th>\n",
       "      <th>maximum_nights</th>\n",
       "      <th>listing_url</th>\n",
       "      <th>name</th>\n",
       "      <th>...</th>\n",
       "      <th>bedrooms</th>\n",
       "      <th>beds</th>\n",
       "      <th>amenities</th>\n",
       "      <th>host_id</th>\n",
       "      <th>host_name</th>\n",
       "      <th>host_since</th>\n",
       "      <th>host_location</th>\n",
       "      <th>host_about</th>\n",
       "      <th>total_reviews</th>\n",
       "      <th>days_since_review</th>\n",
       "    </tr>\n",
       "  </thead>\n",
       "  <tbody>\n",
       "    <tr>\n",
       "      <th>0</th>\n",
       "      <td>0</td>\n",
       "      <td>50904</td>\n",
       "      <td>166029.333333</td>\n",
       "      <td>0.0</td>\n",
       "      <td>166.666667</td>\n",
       "      <td>158.666667</td>\n",
       "      <td>1.000000</td>\n",
       "      <td>60.0</td>\n",
       "      <td>https://www.airbnb.com/rooms/50904</td>\n",
       "      <td>aplace/antwerp: cosy suite - fashion district</td>\n",
       "      <td>...</td>\n",
       "      <td>1.0</td>\n",
       "      <td>1.0</td>\n",
       "      <td>[\"Kitchen\", \"Smoke alarm\", \"Hair dryer\", \"Keyp...</td>\n",
       "      <td>234077</td>\n",
       "      <td>Karin</td>\n",
       "      <td>2010-09-14</td>\n",
       "      <td>Antwerp, Flanders, Belgium</td>\n",
       "      <td>Ever since my childhood I dreamt of having my ...</td>\n",
       "      <td>2.0</td>\n",
       "      <td>1377.5</td>\n",
       "    </tr>\n",
       "    <tr>\n",
       "      <th>1</th>\n",
       "      <td>17</td>\n",
       "      <td>891884</td>\n",
       "      <td>30099.000000</td>\n",
       "      <td>0.0</td>\n",
       "      <td>175.000000</td>\n",
       "      <td>175.000000</td>\n",
       "      <td>1.666667</td>\n",
       "      <td>1125.0</td>\n",
       "      <td>https://www.airbnb.com/rooms/891884</td>\n",
       "      <td>aplace/antwerp: amazing suite &amp; square view</td>\n",
       "      <td>...</td>\n",
       "      <td>1.0</td>\n",
       "      <td>1.0</td>\n",
       "      <td>[\"Refrigerator\", \"Kitchen\", \"Smoke alarm\", \"Ha...</td>\n",
       "      <td>234077</td>\n",
       "      <td>Karin</td>\n",
       "      <td>2010-09-14</td>\n",
       "      <td>Antwerp, Flanders, Belgium</td>\n",
       "      <td>Ever since my childhood I dreamt of having my ...</td>\n",
       "      <td>2.0</td>\n",
       "      <td>638.0</td>\n",
       "    </tr>\n",
       "  </tbody>\n",
       "</table>\n",
       "<p>2 rows × 27 columns</p>\n",
       "</div>"
      ],
      "text/plain": [
       "   index  listing_id    calender_id  available       price  adjusted_price  \\\n",
       "0      0       50904  166029.333333        0.0  166.666667      158.666667   \n",
       "1     17      891884   30099.000000        0.0  175.000000      175.000000   \n",
       "\n",
       "   minimum_nights  maximum_nights                          listing_url  \\\n",
       "0        1.000000            60.0   https://www.airbnb.com/rooms/50904   \n",
       "1        1.666667          1125.0  https://www.airbnb.com/rooms/891884   \n",
       "\n",
       "                                            name  ... bedrooms  beds  \\\n",
       "0  aplace/antwerp: cosy suite - fashion district  ...      1.0   1.0   \n",
       "1    aplace/antwerp: amazing suite & square view  ...      1.0   1.0   \n",
       "\n",
       "                                           amenities host_id host_name  \\\n",
       "0  [\"Kitchen\", \"Smoke alarm\", \"Hair dryer\", \"Keyp...  234077     Karin   \n",
       "1  [\"Refrigerator\", \"Kitchen\", \"Smoke alarm\", \"Ha...  234077     Karin   \n",
       "\n",
       "   host_since               host_location  \\\n",
       "0  2010-09-14  Antwerp, Flanders, Belgium   \n",
       "1  2010-09-14  Antwerp, Flanders, Belgium   \n",
       "\n",
       "                                          host_about  total_reviews  \\\n",
       "0  Ever since my childhood I dreamt of having my ...            2.0   \n",
       "1  Ever since my childhood I dreamt of having my ...            2.0   \n",
       "\n",
       "  days_since_review  \n",
       "0            1377.5  \n",
       "1             638.0  \n",
       "\n",
       "[2 rows x 27 columns]"
      ]
     },
     "execution_count": 116,
     "metadata": {},
     "output_type": "execute_result"
    }
   ],
   "source": [
    "df_cal_list_host_reviews.head(2)"
   ]
  },
  {
   "cell_type": "markdown",
   "id": "468cdc67-4fd2-4a62-8630-17c2d091da3c",
   "metadata": {},
   "source": [
    "'**Data Cleaning and checking'"
   ]
  },
  {
   "cell_type": "code",
   "execution_count": 112,
   "id": "49843fa8-5953-401a-ac28-cf90090b55eb",
   "metadata": {},
   "outputs": [],
   "source": [
    "df = pd.read_csv('merged_airbnb.csv')"
   ]
  },
  {
   "cell_type": "code",
   "execution_count": 117,
   "id": "7fbe1a1b-d599-4f76-bda1-408d201ea558",
   "metadata": {},
   "outputs": [
    {
     "data": {
      "text/html": [
       "<div>\n",
       "<style scoped>\n",
       "    .dataframe tbody tr th:only-of-type {\n",
       "        vertical-align: middle;\n",
       "    }\n",
       "\n",
       "    .dataframe tbody tr th {\n",
       "        vertical-align: top;\n",
       "    }\n",
       "\n",
       "    .dataframe thead th {\n",
       "        text-align: right;\n",
       "    }\n",
       "</style>\n",
       "<table border=\"1\" class=\"dataframe\">\n",
       "  <thead>\n",
       "    <tr style=\"text-align: right;\">\n",
       "      <th></th>\n",
       "      <th>Unnamed: 0</th>\n",
       "      <th>index</th>\n",
       "      <th>listing_id</th>\n",
       "      <th>calender_id</th>\n",
       "      <th>available</th>\n",
       "      <th>price</th>\n",
       "      <th>adjusted_price</th>\n",
       "      <th>minimum_nights</th>\n",
       "      <th>maximum_nights</th>\n",
       "      <th>listing_url</th>\n",
       "      <th>...</th>\n",
       "      <th>bedrooms</th>\n",
       "      <th>beds</th>\n",
       "      <th>amenities</th>\n",
       "      <th>host_id</th>\n",
       "      <th>host_name</th>\n",
       "      <th>host_since</th>\n",
       "      <th>host_location</th>\n",
       "      <th>host_about</th>\n",
       "      <th>total_reviews</th>\n",
       "      <th>days_since_review</th>\n",
       "    </tr>\n",
       "  </thead>\n",
       "  <tbody>\n",
       "    <tr>\n",
       "      <th>0</th>\n",
       "      <td>0</td>\n",
       "      <td>0</td>\n",
       "      <td>50904</td>\n",
       "      <td>166029.333333</td>\n",
       "      <td>0.0</td>\n",
       "      <td>166.666667</td>\n",
       "      <td>158.666667</td>\n",
       "      <td>1.000000</td>\n",
       "      <td>60.0</td>\n",
       "      <td>https://www.airbnb.com/rooms/50904</td>\n",
       "      <td>...</td>\n",
       "      <td>1.0</td>\n",
       "      <td>1.0</td>\n",
       "      <td>[\"Kitchen\", \"Smoke alarm\", \"Hair dryer\", \"Keyp...</td>\n",
       "      <td>234077</td>\n",
       "      <td>Karin</td>\n",
       "      <td>2010-09-14</td>\n",
       "      <td>Antwerp, Flanders, Belgium</td>\n",
       "      <td>Ever since my childhood I dreamt of having my ...</td>\n",
       "      <td>2.0</td>\n",
       "      <td>1377.5</td>\n",
       "    </tr>\n",
       "    <tr>\n",
       "      <th>1</th>\n",
       "      <td>1</td>\n",
       "      <td>17</td>\n",
       "      <td>891884</td>\n",
       "      <td>30099.000000</td>\n",
       "      <td>0.0</td>\n",
       "      <td>175.000000</td>\n",
       "      <td>175.000000</td>\n",
       "      <td>1.666667</td>\n",
       "      <td>1125.0</td>\n",
       "      <td>https://www.airbnb.com/rooms/891884</td>\n",
       "      <td>...</td>\n",
       "      <td>1.0</td>\n",
       "      <td>1.0</td>\n",
       "      <td>[\"Refrigerator\", \"Kitchen\", \"Smoke alarm\", \"Ha...</td>\n",
       "      <td>234077</td>\n",
       "      <td>Karin</td>\n",
       "      <td>2010-09-14</td>\n",
       "      <td>Antwerp, Flanders, Belgium</td>\n",
       "      <td>Ever since my childhood I dreamt of having my ...</td>\n",
       "      <td>2.0</td>\n",
       "      <td>638.0</td>\n",
       "    </tr>\n",
       "  </tbody>\n",
       "</table>\n",
       "<p>2 rows × 28 columns</p>\n",
       "</div>"
      ],
      "text/plain": [
       "   Unnamed: 0  index  listing_id    calender_id  available       price  \\\n",
       "0           0      0       50904  166029.333333        0.0  166.666667   \n",
       "1           1     17      891884   30099.000000        0.0  175.000000   \n",
       "\n",
       "   adjusted_price  minimum_nights  maximum_nights  \\\n",
       "0      158.666667        1.000000            60.0   \n",
       "1      175.000000        1.666667          1125.0   \n",
       "\n",
       "                           listing_url  ... bedrooms beds  \\\n",
       "0   https://www.airbnb.com/rooms/50904  ...      1.0  1.0   \n",
       "1  https://www.airbnb.com/rooms/891884  ...      1.0  1.0   \n",
       "\n",
       "                                           amenities  host_id host_name  \\\n",
       "0  [\"Kitchen\", \"Smoke alarm\", \"Hair dryer\", \"Keyp...   234077     Karin   \n",
       "1  [\"Refrigerator\", \"Kitchen\", \"Smoke alarm\", \"Ha...   234077     Karin   \n",
       "\n",
       "   host_since               host_location  \\\n",
       "0  2010-09-14  Antwerp, Flanders, Belgium   \n",
       "1  2010-09-14  Antwerp, Flanders, Belgium   \n",
       "\n",
       "                                          host_about  total_reviews  \\\n",
       "0  Ever since my childhood I dreamt of having my ...            2.0   \n",
       "1  Ever since my childhood I dreamt of having my ...            2.0   \n",
       "\n",
       "   days_since_review  \n",
       "0             1377.5  \n",
       "1              638.0  \n",
       "\n",
       "[2 rows x 28 columns]"
      ]
     },
     "execution_count": 117,
     "metadata": {},
     "output_type": "execute_result"
    }
   ],
   "source": [
    "df.head(2)"
   ]
  },
  {
   "cell_type": "code",
   "execution_count": 118,
   "id": "a7bf21c2-17cd-4392-b1f7-bda6c6440d67",
   "metadata": {},
   "outputs": [],
   "source": [
    "df.drop(['index'],axis=1,inplace=True)"
   ]
  },
  {
   "cell_type": "code",
   "execution_count": 119,
   "id": "830e736d-0a7a-42cf-8b73-d2ecf40f43ef",
   "metadata": {},
   "outputs": [
    {
     "data": {
      "text/html": [
       "<div>\n",
       "<style scoped>\n",
       "    .dataframe tbody tr th:only-of-type {\n",
       "        vertical-align: middle;\n",
       "    }\n",
       "\n",
       "    .dataframe tbody tr th {\n",
       "        vertical-align: top;\n",
       "    }\n",
       "\n",
       "    .dataframe thead th {\n",
       "        text-align: right;\n",
       "    }\n",
       "</style>\n",
       "<table border=\"1\" class=\"dataframe\">\n",
       "  <thead>\n",
       "    <tr style=\"text-align: right;\">\n",
       "      <th></th>\n",
       "      <th>Unnamed: 0</th>\n",
       "      <th>listing_id</th>\n",
       "      <th>calender_id</th>\n",
       "      <th>available</th>\n",
       "      <th>price</th>\n",
       "      <th>adjusted_price</th>\n",
       "      <th>minimum_nights</th>\n",
       "      <th>maximum_nights</th>\n",
       "      <th>listing_url</th>\n",
       "      <th>name</th>\n",
       "      <th>...</th>\n",
       "      <th>bedrooms</th>\n",
       "      <th>beds</th>\n",
       "      <th>amenities</th>\n",
       "      <th>host_id</th>\n",
       "      <th>host_name</th>\n",
       "      <th>host_since</th>\n",
       "      <th>host_location</th>\n",
       "      <th>host_about</th>\n",
       "      <th>total_reviews</th>\n",
       "      <th>days_since_review</th>\n",
       "    </tr>\n",
       "  </thead>\n",
       "  <tbody>\n",
       "    <tr>\n",
       "      <th>0</th>\n",
       "      <td>0</td>\n",
       "      <td>50904</td>\n",
       "      <td>166029.333333</td>\n",
       "      <td>0.0</td>\n",
       "      <td>166.666667</td>\n",
       "      <td>158.666667</td>\n",
       "      <td>1.000000</td>\n",
       "      <td>60.0</td>\n",
       "      <td>https://www.airbnb.com/rooms/50904</td>\n",
       "      <td>aplace/antwerp: cosy suite - fashion district</td>\n",
       "      <td>...</td>\n",
       "      <td>1.0</td>\n",
       "      <td>1.0</td>\n",
       "      <td>[\"Kitchen\", \"Smoke alarm\", \"Hair dryer\", \"Keyp...</td>\n",
       "      <td>234077</td>\n",
       "      <td>Karin</td>\n",
       "      <td>2010-09-14</td>\n",
       "      <td>Antwerp, Flanders, Belgium</td>\n",
       "      <td>Ever since my childhood I dreamt of having my ...</td>\n",
       "      <td>2.0</td>\n",
       "      <td>1377.5</td>\n",
       "    </tr>\n",
       "    <tr>\n",
       "      <th>1</th>\n",
       "      <td>1</td>\n",
       "      <td>891884</td>\n",
       "      <td>30099.000000</td>\n",
       "      <td>0.0</td>\n",
       "      <td>175.000000</td>\n",
       "      <td>175.000000</td>\n",
       "      <td>1.666667</td>\n",
       "      <td>1125.0</td>\n",
       "      <td>https://www.airbnb.com/rooms/891884</td>\n",
       "      <td>aplace/antwerp: amazing suite &amp; square view</td>\n",
       "      <td>...</td>\n",
       "      <td>1.0</td>\n",
       "      <td>1.0</td>\n",
       "      <td>[\"Refrigerator\", \"Kitchen\", \"Smoke alarm\", \"Ha...</td>\n",
       "      <td>234077</td>\n",
       "      <td>Karin</td>\n",
       "      <td>2010-09-14</td>\n",
       "      <td>Antwerp, Flanders, Belgium</td>\n",
       "      <td>Ever since my childhood I dreamt of having my ...</td>\n",
       "      <td>2.0</td>\n",
       "      <td>638.0</td>\n",
       "    </tr>\n",
       "  </tbody>\n",
       "</table>\n",
       "<p>2 rows × 27 columns</p>\n",
       "</div>"
      ],
      "text/plain": [
       "   Unnamed: 0  listing_id    calender_id  available       price  \\\n",
       "0           0       50904  166029.333333        0.0  166.666667   \n",
       "1           1      891884   30099.000000        0.0  175.000000   \n",
       "\n",
       "   adjusted_price  minimum_nights  maximum_nights  \\\n",
       "0      158.666667        1.000000            60.0   \n",
       "1      175.000000        1.666667          1125.0   \n",
       "\n",
       "                           listing_url  \\\n",
       "0   https://www.airbnb.com/rooms/50904   \n",
       "1  https://www.airbnb.com/rooms/891884   \n",
       "\n",
       "                                            name  ... bedrooms  beds  \\\n",
       "0  aplace/antwerp: cosy suite - fashion district  ...      1.0   1.0   \n",
       "1    aplace/antwerp: amazing suite & square view  ...      1.0   1.0   \n",
       "\n",
       "                                           amenities host_id host_name  \\\n",
       "0  [\"Kitchen\", \"Smoke alarm\", \"Hair dryer\", \"Keyp...  234077     Karin   \n",
       "1  [\"Refrigerator\", \"Kitchen\", \"Smoke alarm\", \"Ha...  234077     Karin   \n",
       "\n",
       "   host_since               host_location  \\\n",
       "0  2010-09-14  Antwerp, Flanders, Belgium   \n",
       "1  2010-09-14  Antwerp, Flanders, Belgium   \n",
       "\n",
       "                                          host_about  total_reviews  \\\n",
       "0  Ever since my childhood I dreamt of having my ...            2.0   \n",
       "1  Ever since my childhood I dreamt of having my ...            2.0   \n",
       "\n",
       "  days_since_review  \n",
       "0            1377.5  \n",
       "1             638.0  \n",
       "\n",
       "[2 rows x 27 columns]"
      ]
     },
     "execution_count": 119,
     "metadata": {},
     "output_type": "execute_result"
    }
   ],
   "source": [
    "df.head(2)"
   ]
  },
  {
   "cell_type": "code",
   "execution_count": 120,
   "id": "2cab581c-02e7-4f8d-adeb-52c50187e848",
   "metadata": {},
   "outputs": [
    {
     "data": {
      "text/plain": [
       "<AxesSubplot:>"
      ]
     },
     "execution_count": 120,
     "metadata": {},
     "output_type": "execute_result"
    },
    {
     "data": {
      "image/png": "[encoded data removed]",
      "text/plain": [
       "<Figure size 432x288 with 1 Axes>"
      ]
     },
     "metadata": {
      "needs_background": "light"
     },
     "output_type": "display_data"
    }
   ],
   "source": [
    "df.isna().sum().plot(kind='bar')"
   ]
  },
  {
   "cell_type": "code",
   "execution_count": 122,
   "id": "b88d3743-526d-425c-aaa3-3b61d6545ec9",
   "metadata": {},
   "outputs": [],
   "source": [
    "df.drop(['host_about'],axis=1,inplace=True)"
   ]
  },
  {
   "cell_type": "code",
   "execution_count": 123,
   "id": "a9a662bd-6a12-4d02-8dae-0cdef2608482",
   "metadata": {},
   "outputs": [
    {
     "data": {
      "text/plain": [
       "<AxesSubplot:>"
      ]
     },
     "execution_count": 123,
     "metadata": {},
     "output_type": "execute_result"
    },
    {
     "data": {
      "image/png": "[encoded data removed]",
      "text/plain": [
       "<Figure size 432x288 with 1 Axes>"
      ]
     },
     "metadata": {
      "needs_background": "light"
     },
     "output_type": "display_data"
    }
   ],
   "source": [
    "df.isna().sum().plot(kind='bar')"
   ]
  },
  {
   "cell_type": "code",
   "execution_count": 124,
   "id": "9d512447-8f0f-4990-bbea-66e40ff4a4cf",
   "metadata": {},
   "outputs": [
    {
     "data": {
      "text/plain": [
       "Index(['Unnamed: 0', 'listing_id', 'calender_id', 'available', 'price',\n",
       "       'adjusted_price', 'minimum_nights', 'maximum_nights', 'listing_url',\n",
       "       'name', 'description', 'latitude', 'longitude', 'property_type',\n",
       "       'room_type', 'accomodates', 'bathrooms_text', 'bedrooms', 'beds',\n",
       "       'amenities', 'host_id', 'host_name', 'host_since', 'host_location',\n",
       "       'total_reviews', 'days_since_review'],\n",
       "      dtype='object')"
      ]
     },
     "execution_count": 124,
     "metadata": {},
     "output_type": "execute_result"
    }
   ],
   "source": [
    "df.columns"
   ]
  },
  {
   "cell_type": "code",
   "execution_count": 125,
   "id": "8c3aa35a-ad30-4fe8-871c-fce61bf802e9",
   "metadata": {},
   "outputs": [],
   "source": [
    "df.drop(['Unnamed: 0','calender_id','listing_url'],axis=1,inplace=True)"
   ]
  },
  {
   "cell_type": "code",
   "execution_count": 127,
   "id": "d803fb5b-d98f-4847-8a6d-deab1e447dce",
   "metadata": {},
   "outputs": [
    {
     "data": {
      "text/plain": [
       "<AxesSubplot:>"
      ]
     },
     "execution_count": 127,
     "metadata": {},
     "output_type": "execute_result"
    },
    {
     "data": {
      "image/png": "[encoded data removed]",
      "text/plain": [
       "<Figure size 432x288 with 1 Axes>"
      ]
     },
     "metadata": {
      "needs_background": "light"
     },
     "output_type": "display_data"
    }
   ],
   "source": [
    "df.isna().sum(axis=1).plot()"
   ]
  },
  {
   "cell_type": "code",
   "execution_count": null,
   "id": "0fe6bdf6-ad81-4da9-9075-6441e17f6e99",
   "metadata": {},
   "outputs": [],
   "source": []
  }
 ],
 "metadata": {
  "kernelspec": {
   "display_name": "Python 3",
   "language": "python",
   "name": "python3"
  },
  "language_info": {
   "codemirror_mode": {
    "name": "ipython",
    "version": 3
   },
   "file_extension": ".py",
   "mimetype": "text/x-python",
   "name": "python",
   "nbconvert_exporter": "python",
   "pygments_lexer": "ipython3",
   "version": "3.8.8"
  }
 },
 "nbformat": 4,
 "nbformat_minor": 5
}
